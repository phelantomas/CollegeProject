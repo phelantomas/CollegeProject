{
 "cells": [
  {
   "cell_type": "code",
   "execution_count": 80,
   "metadata": {},
   "outputs": [],
   "source": [
    "import pandas as pd\n",
    "import numpy as np\n",
    "from sklearn import datasets, linear_model\n",
    "from sklearn.model_selection import train_test_split\n",
    "from sklearn.metrics import mean_squared_error, r2_score\n",
    "from sklearn import preprocessing\n",
    "from sklearn import utils\n",
    "from sklearn.metrics import mean_squared_error, r2_score\n",
    "from sklearn.linear_model import LinearRegression\n",
    "import matplotlib.pyplot as plt\n",
    "import statsmodels.api as sm"
   ]
  },
  {
   "cell_type": "code",
   "execution_count": 81,
   "metadata": {
    "collapsed": true
   },
   "outputs": [],
   "source": [
    "btc_df_1 = pd.read_csv('C:/Users/Thomas/Desktop/Bitcoin_Data/Version_1/btcFeature.csv')\n",
    "btc_df_2 = pd.read_csv('C:/Users/Thomas/Desktop/Bitcoin_Data/Version_2/btcFeature.csv')\n",
    "btc_df_3 = pd.read_csv('C:/Users/Thomas/Desktop/Bitcoin_Data/Version_3/btcFeature.csv')\n",
    "btc_df_4 = pd.read_csv('C:/Users/Thomas/Desktop/Bitcoin_Data/Version_4/btcFeature.csv')"
   ]
  },
  {
   "cell_type": "code",
   "execution_count": 82,
   "metadata": {
    "collapsed": true
   },
   "outputs": [],
   "source": [
    "shift = -3\n",
    "random_state = 0\n",
    "btc_df_1.Change = btc_df_1.Change.shift(shift)\n",
    "btc_df_1 = btc_df_1.dropna()\n",
    "\n",
    "btc_df_2.Change = btc_df_2.Change.shift(shift)\n",
    "btc_df_2 = btc_df_2.dropna()\n",
    "\n",
    "btc_df_3.Change = btc_df_3.Change.shift(shift)\n",
    "btc_df_3 = btc_df_3.dropna()\n",
    "\n",
    "btc_df_4.Change = btc_df_4.Change.shift(shift)\n",
    "btc_df_4 = btc_df_4.dropna()"
   ]
  },
  {
   "cell_type": "code",
   "execution_count": 83,
   "metadata": {},
   "outputs": [
    {
     "data": {
      "text/html": [
       "<table class=\"simpletable\">\n",
       "<caption>OLS Regression Results</caption>\n",
       "<tr>\n",
       "  <th>Dep. Variable:</th>         <td>Change</td>      <th>  R-squared:         </th> <td>   0.005</td>\n",
       "</tr>\n",
       "<tr>\n",
       "  <th>Model:</th>                   <td>OLS</td>       <th>  Adj. R-squared:    </th> <td>   0.001</td>\n",
       "</tr>\n",
       "<tr>\n",
       "  <th>Method:</th>             <td>Least Squares</td>  <th>  F-statistic:       </th> <td>   1.305</td>\n",
       "</tr>\n",
       "<tr>\n",
       "  <th>Date:</th>             <td>Sat, 24 Mar 2018</td> <th>  Prob (F-statistic):</th>  <td> 0.272</td> \n",
       "</tr>\n",
       "<tr>\n",
       "  <th>Time:</th>                 <td>12:09:48</td>     <th>  Log-Likelihood:    </th> <td> -4860.3</td>\n",
       "</tr>\n",
       "<tr>\n",
       "  <th>No. Observations:</th>      <td>   847</td>      <th>  AIC:               </th> <td>   9727.</td>\n",
       "</tr>\n",
       "<tr>\n",
       "  <th>Df Residuals:</th>          <td>   844</td>      <th>  BIC:               </th> <td>   9741.</td>\n",
       "</tr>\n",
       "<tr>\n",
       "  <th>Df Model:</th>              <td>     3</td>      <th>                     </th>     <td> </td>   \n",
       "</tr>\n",
       "<tr>\n",
       "  <th>Covariance Type:</th>      <td>nonrobust</td>    <th>                     </th>     <td> </td>   \n",
       "</tr>\n",
       "</table>\n",
       "<table class=\"simpletable\">\n",
       "<tr>\n",
       "       <td></td>         <th>coef</th>     <th>std err</th>      <th>t</th>      <th>P>|t|</th>  <th>[0.025</th>    <th>0.975]</th>  \n",
       "</tr>\n",
       "<tr>\n",
       "  <th>Sentiment</th>  <td>  109.1537</td> <td>   60.010</td> <td>    1.819</td> <td> 0.069</td> <td>   -8.633</td> <td>  226.941</td>\n",
       "</tr>\n",
       "<tr>\n",
       "  <th>Volume</th>     <td> 4.888e-05</td> <td> 4.45e-05</td> <td>    1.098</td> <td> 0.272</td> <td>-3.85e-05</td> <td>    0.000</td>\n",
       "</tr>\n",
       "<tr>\n",
       "  <th>NoOfTweets</th> <td>   -0.0048</td> <td>    0.002</td> <td>   -1.938</td> <td> 0.053</td> <td>   -0.010</td> <td> 6.21e-05</td>\n",
       "</tr>\n",
       "</table>\n",
       "<table class=\"simpletable\">\n",
       "<tr>\n",
       "  <th>Omnibus:</th>       <td>102.902</td> <th>  Durbin-Watson:     </th> <td>   2.259</td> \n",
       "</tr>\n",
       "<tr>\n",
       "  <th>Prob(Omnibus):</th> <td> 0.000</td>  <th>  Jarque-Bera (JB):  </th> <td> 670.521</td> \n",
       "</tr>\n",
       "<tr>\n",
       "  <th>Skew:</th>          <td> 0.312</td>  <th>  Prob(JB):          </th> <td>2.50e-146</td>\n",
       "</tr>\n",
       "<tr>\n",
       "  <th>Kurtosis:</th>      <td> 7.314</td>  <th>  Cond. No.          </th> <td>3.08e+06</td> \n",
       "</tr>\n",
       "</table>"
      ],
      "text/plain": [
       "<class 'statsmodels.iolib.summary.Summary'>\n",
       "\"\"\"\n",
       "                            OLS Regression Results                            \n",
       "==============================================================================\n",
       "Dep. Variable:                 Change   R-squared:                       0.005\n",
       "Model:                            OLS   Adj. R-squared:                  0.001\n",
       "Method:                 Least Squares   F-statistic:                     1.305\n",
       "Date:                Sat, 24 Mar 2018   Prob (F-statistic):              0.272\n",
       "Time:                        12:09:48   Log-Likelihood:                -4860.3\n",
       "No. Observations:                 847   AIC:                             9727.\n",
       "Df Residuals:                     844   BIC:                             9741.\n",
       "Df Model:                           3                                         \n",
       "Covariance Type:            nonrobust                                         \n",
       "==============================================================================\n",
       "                 coef    std err          t      P>|t|      [0.025      0.975]\n",
       "------------------------------------------------------------------------------\n",
       "Sentiment    109.1537     60.010      1.819      0.069      -8.633     226.941\n",
       "Volume      4.888e-05   4.45e-05      1.098      0.272   -3.85e-05       0.000\n",
       "NoOfTweets    -0.0048      0.002     -1.938      0.053      -0.010    6.21e-05\n",
       "==============================================================================\n",
       "Omnibus:                      102.902   Durbin-Watson:                   2.259\n",
       "Prob(Omnibus):                  0.000   Jarque-Bera (JB):              670.521\n",
       "Skew:                           0.312   Prob(JB):                    2.50e-146\n",
       "Kurtosis:                       7.314   Cond. No.                     3.08e+06\n",
       "==============================================================================\n",
       "\n",
       "Warnings:\n",
       "[1] Standard Errors assume that the covariance matrix of the errors is correctly specified.\n",
       "[2] The condition number is large, 3.08e+06. This might indicate that there are\n",
       "strong multicollinearity or other numerical problems.\n",
       "\"\"\""
      ]
     },
     "execution_count": 83,
     "metadata": {},
     "output_type": "execute_result"
    }
   ],
   "source": [
    "lm_1 = LinearRegression()\n",
    "\n",
    "X_1 = btc_df_1[['Sentiment', 'Volume', 'NoOfTweets']]\n",
    "Y_1 = btc_df_1['Change']\n",
    "\n",
    "X_train_1, X_test_1, Y_train_1, Y_test_1 = train_test_split(X_1, Y_1, test_size=0.33, random_state=random_state)\n",
    "\n",
    "model = sm.OLS(Y_1, X_1).fit()\n",
    "predictions = model.predict(X_1) # make the predictions by the model\n",
    "model.summary()"
   ]
  },
  {
   "cell_type": "code",
   "execution_count": 84,
   "metadata": {},
   "outputs": [],
   "source": [
    "#lm = linear_model.LinearRegression()\n",
    "model = lm_1.fit(X_1,Y_1)"
   ]
  },
  {
   "cell_type": "code",
   "execution_count": 85,
   "metadata": {},
   "outputs": [
    {
     "name": "stdout",
     "output_type": "stream",
     "text": [
      "   Sentiment         Volume  NoOfTweets\n",
      "0   0.129824  101879.724252        5467\n",
      "1   0.164874  102390.922041        5126\n",
      "2   0.179189  103844.936107        4988\n",
      "3   0.164394  102671.806232        4938\n",
      "4   0.147747  100960.453183        4657\n",
      "[-6.29579094  0.46691267  3.31160603  0.86874346 -1.3530026 ]\n"
     ]
    }
   ],
   "source": [
    "predictions = lm_1.predict(X_1)\n",
    "print(X_1[0:5])\n",
    "print(predictions[0:5])"
   ]
  },
  {
   "cell_type": "code",
   "execution_count": 86,
   "metadata": {},
   "outputs": [
    {
     "data": {
      "text/plain": [
       "0.0060468467280835325"
      ]
     },
     "execution_count": 86,
     "metadata": {},
     "output_type": "execute_result"
    }
   ],
   "source": [
    "lm_1.score(X_1,Y_1)"
   ]
  },
  {
   "cell_type": "code",
   "execution_count": 87,
   "metadata": {},
   "outputs": [
    {
     "data": {
      "text/plain": [
       "-21.653110115429296"
      ]
     },
     "execution_count": 87,
     "metadata": {},
     "output_type": "execute_result"
    }
   ],
   "source": [
    "lm_1.intercept_"
   ]
  },
  {
   "cell_type": "code",
   "execution_count": 88,
   "metadata": {},
   "outputs": [
    {
     "data": {
      "text/html": [
       "<table class=\"simpletable\">\n",
       "<caption>OLS Regression Results</caption>\n",
       "<tr>\n",
       "  <th>Dep. Variable:</th>         <td>Change</td>      <th>  R-squared:         </th> <td>   0.002</td>\n",
       "</tr>\n",
       "<tr>\n",
       "  <th>Model:</th>                   <td>OLS</td>       <th>  Adj. R-squared:    </th> <td>  -0.002</td>\n",
       "</tr>\n",
       "<tr>\n",
       "  <th>Method:</th>             <td>Least Squares</td>  <th>  F-statistic:       </th> <td>  0.5434</td>\n",
       "</tr>\n",
       "<tr>\n",
       "  <th>Date:</th>             <td>Sat, 24 Mar 2018</td> <th>  Prob (F-statistic):</th>  <td> 0.653</td> \n",
       "</tr>\n",
       "<tr>\n",
       "  <th>Time:</th>                 <td>12:09:49</td>     <th>  Log-Likelihood:    </th> <td> -4743.0</td>\n",
       "</tr>\n",
       "<tr>\n",
       "  <th>No. Observations:</th>      <td>   822</td>      <th>  AIC:               </th> <td>   9492.</td>\n",
       "</tr>\n",
       "<tr>\n",
       "  <th>Df Residuals:</th>          <td>   819</td>      <th>  BIC:               </th> <td>   9506.</td>\n",
       "</tr>\n",
       "<tr>\n",
       "  <th>Df Model:</th>              <td>     3</td>      <th>                     </th>     <td> </td>   \n",
       "</tr>\n",
       "<tr>\n",
       "  <th>Covariance Type:</th>      <td>nonrobust</td>    <th>                     </th>     <td> </td>   \n",
       "</tr>\n",
       "</table>\n",
       "<table class=\"simpletable\">\n",
       "<tr>\n",
       "       <td></td>         <th>coef</th>     <th>std err</th>      <th>t</th>      <th>P>|t|</th>  <th>[0.025</th>    <th>0.975]</th>  \n",
       "</tr>\n",
       "<tr>\n",
       "  <th>Sentiment</th>  <td>   66.0774</td> <td>   62.577</td> <td>    1.056</td> <td> 0.291</td> <td>  -56.753</td> <td>  188.908</td>\n",
       "</tr>\n",
       "<tr>\n",
       "  <th>Volume</th>     <td> 3.858e-05</td> <td>  4.6e-05</td> <td>    0.839</td> <td> 0.402</td> <td>-5.17e-05</td> <td>    0.000</td>\n",
       "</tr>\n",
       "<tr>\n",
       "  <th>NoOfTweets</th> <td>   -0.0032</td> <td>    0.003</td> <td>   -1.271</td> <td> 0.204</td> <td>   -0.008</td> <td>    0.002</td>\n",
       "</tr>\n",
       "</table>\n",
       "<table class=\"simpletable\">\n",
       "<tr>\n",
       "  <th>Omnibus:</th>       <td>141.513</td> <th>  Durbin-Watson:     </th> <td>   2.093</td> \n",
       "</tr>\n",
       "<tr>\n",
       "  <th>Prob(Omnibus):</th> <td> 0.000</td>  <th>  Jarque-Bera (JB):  </th> <td>1307.451</td> \n",
       "</tr>\n",
       "<tr>\n",
       "  <th>Skew:</th>          <td> 0.470</td>  <th>  Prob(JB):          </th> <td>1.23e-284</td>\n",
       "</tr>\n",
       "<tr>\n",
       "  <th>Kurtosis:</th>      <td> 9.107</td>  <th>  Cond. No.          </th> <td>3.05e+06</td> \n",
       "</tr>\n",
       "</table>"
      ],
      "text/plain": [
       "<class 'statsmodels.iolib.summary.Summary'>\n",
       "\"\"\"\n",
       "                            OLS Regression Results                            \n",
       "==============================================================================\n",
       "Dep. Variable:                 Change   R-squared:                       0.002\n",
       "Model:                            OLS   Adj. R-squared:                 -0.002\n",
       "Method:                 Least Squares   F-statistic:                    0.5434\n",
       "Date:                Sat, 24 Mar 2018   Prob (F-statistic):              0.653\n",
       "Time:                        12:09:49   Log-Likelihood:                -4743.0\n",
       "No. Observations:                 822   AIC:                             9492.\n",
       "Df Residuals:                     819   BIC:                             9506.\n",
       "Df Model:                           3                                         \n",
       "Covariance Type:            nonrobust                                         \n",
       "==============================================================================\n",
       "                 coef    std err          t      P>|t|      [0.025      0.975]\n",
       "------------------------------------------------------------------------------\n",
       "Sentiment     66.0774     62.577      1.056      0.291     -56.753     188.908\n",
       "Volume      3.858e-05    4.6e-05      0.839      0.402   -5.17e-05       0.000\n",
       "NoOfTweets    -0.0032      0.003     -1.271      0.204      -0.008       0.002\n",
       "==============================================================================\n",
       "Omnibus:                      141.513   Durbin-Watson:                   2.093\n",
       "Prob(Omnibus):                  0.000   Jarque-Bera (JB):             1307.451\n",
       "Skew:                           0.470   Prob(JB):                    1.23e-284\n",
       "Kurtosis:                       9.107   Cond. No.                     3.05e+06\n",
       "==============================================================================\n",
       "\n",
       "Warnings:\n",
       "[1] Standard Errors assume that the covariance matrix of the errors is correctly specified.\n",
       "[2] The condition number is large, 3.05e+06. This might indicate that there are\n",
       "strong multicollinearity or other numerical problems.\n",
       "\"\"\""
      ]
     },
     "execution_count": 88,
     "metadata": {},
     "output_type": "execute_result"
    }
   ],
   "source": [
    "lm_2 = LinearRegression()\n",
    "\n",
    "X_2 = btc_df_2[['Sentiment', 'Volume', 'NoOfTweets']]\n",
    "Y_2 = btc_df_2['Change']\n",
    "\n",
    "X_train_2, X_test_2, Y_train_2, Y_test_2 = train_test_split(X_2, Y_2, test_size=0.33, random_state=random_state)\n",
    "\n",
    "model_2 = sm.OLS(Y_2, X_2).fit()\n",
    "predictions = model_2.predict(X_2) # make the predictions by the model\n",
    "model_2.summary()"
   ]
  },
  {
   "cell_type": "code",
   "execution_count": 89,
   "metadata": {
    "collapsed": true
   },
   "outputs": [],
   "source": [
    "#lm = linear_model.LinearRegression()\n",
    "model_2 = lm_2.fit(X_2,Y_2)"
   ]
  },
  {
   "cell_type": "code",
   "execution_count": 90,
   "metadata": {},
   "outputs": [
    {
     "name": "stdout",
     "output_type": "stream",
     "text": [
      "   Sentiment         Volume  NoOfTweets\n",
      "0   0.131372  101879.724252        5479\n",
      "1   0.165591  102439.846847        5089\n",
      "2   0.174403  103800.678995        5006\n",
      "3   0.166817  102671.102925        4817\n",
      "4   0.150134  101054.829766        4647\n",
      "[-4.58819756 -0.22214587  0.93570454  0.38836564 -1.19174045]\n"
     ]
    }
   ],
   "source": [
    "predictions = lm_2.predict(X_2)\n",
    "print(X_2[0:5])\n",
    "print(predictions[0:5])"
   ]
  },
  {
   "cell_type": "code",
   "execution_count": 91,
   "metadata": {},
   "outputs": [
    {
     "data": {
      "text/plain": [
       "0.0025724765933763383"
      ]
     },
     "execution_count": 91,
     "metadata": {},
     "output_type": "execute_result"
    }
   ],
   "source": [
    "lm_2.score(X_2,Y_2)"
   ]
  },
  {
   "cell_type": "code",
   "execution_count": 92,
   "metadata": {},
   "outputs": [
    {
     "data": {
      "text/plain": [
       "-14.572300798382296"
      ]
     },
     "execution_count": 92,
     "metadata": {},
     "output_type": "execute_result"
    }
   ],
   "source": [
    "lm_2.intercept_"
   ]
  },
  {
   "cell_type": "code",
   "execution_count": 93,
   "metadata": {},
   "outputs": [
    {
     "data": {
      "text/html": [
       "<table class=\"simpletable\">\n",
       "<caption>OLS Regression Results</caption>\n",
       "<tr>\n",
       "  <th>Dep. Variable:</th>         <td>Change</td>      <th>  R-squared:         </th> <td>   0.002</td>\n",
       "</tr>\n",
       "<tr>\n",
       "  <th>Model:</th>                   <td>OLS</td>       <th>  Adj. R-squared:    </th> <td>  -0.002</td>\n",
       "</tr>\n",
       "<tr>\n",
       "  <th>Method:</th>             <td>Least Squares</td>  <th>  F-statistic:       </th> <td>  0.5523</td>\n",
       "</tr>\n",
       "<tr>\n",
       "  <th>Date:</th>             <td>Sat, 24 Mar 2018</td> <th>  Prob (F-statistic):</th>  <td> 0.647</td> \n",
       "</tr>\n",
       "<tr>\n",
       "  <th>Time:</th>                 <td>12:09:49</td>     <th>  Log-Likelihood:    </th> <td> -4761.1</td>\n",
       "</tr>\n",
       "<tr>\n",
       "  <th>No. Observations:</th>      <td>   824</td>      <th>  AIC:               </th> <td>   9528.</td>\n",
       "</tr>\n",
       "<tr>\n",
       "  <th>Df Residuals:</th>          <td>   821</td>      <th>  BIC:               </th> <td>   9542.</td>\n",
       "</tr>\n",
       "<tr>\n",
       "  <th>Df Model:</th>              <td>     3</td>      <th>                     </th>     <td> </td>   \n",
       "</tr>\n",
       "<tr>\n",
       "  <th>Covariance Type:</th>      <td>nonrobust</td>    <th>                     </th>     <td> </td>   \n",
       "</tr>\n",
       "</table>\n",
       "<table class=\"simpletable\">\n",
       "<tr>\n",
       "       <td></td>         <th>coef</th>     <th>std err</th>      <th>t</th>      <th>P>|t|</th>  <th>[0.025</th>    <th>0.975]</th>  \n",
       "</tr>\n",
       "<tr>\n",
       "  <th>Sentiment</th>  <td>   94.4791</td> <td>   76.266</td> <td>    1.239</td> <td> 0.216</td> <td>  -55.220</td> <td>  244.178</td>\n",
       "</tr>\n",
       "<tr>\n",
       "  <th>Volume</th>     <td> 2.791e-05</td> <td> 4.69e-05</td> <td>    0.596</td> <td> 0.552</td> <td>-6.41e-05</td> <td>    0.000</td>\n",
       "</tr>\n",
       "<tr>\n",
       "  <th>NoOfTweets</th> <td>   -0.0033</td> <td>    0.003</td> <td>   -1.237</td> <td> 0.217</td> <td>   -0.008</td> <td>    0.002</td>\n",
       "</tr>\n",
       "</table>\n",
       "<table class=\"simpletable\">\n",
       "<tr>\n",
       "  <th>Omnibus:</th>       <td>134.781</td> <th>  Durbin-Watson:     </th> <td>   2.027</td> \n",
       "</tr>\n",
       "<tr>\n",
       "  <th>Prob(Omnibus):</th> <td> 0.000</td>  <th>  Jarque-Bera (JB):  </th> <td>1051.750</td> \n",
       "</tr>\n",
       "<tr>\n",
       "  <th>Skew:</th>          <td> 0.488</td>  <th>  Prob(JB):          </th> <td>4.12e-229</td>\n",
       "</tr>\n",
       "<tr>\n",
       "  <th>Kurtosis:</th>      <td> 8.448</td>  <th>  Cond. No.          </th> <td>3.69e+06</td> \n",
       "</tr>\n",
       "</table>"
      ],
      "text/plain": [
       "<class 'statsmodels.iolib.summary.Summary'>\n",
       "\"\"\"\n",
       "                            OLS Regression Results                            \n",
       "==============================================================================\n",
       "Dep. Variable:                 Change   R-squared:                       0.002\n",
       "Model:                            OLS   Adj. R-squared:                 -0.002\n",
       "Method:                 Least Squares   F-statistic:                    0.5523\n",
       "Date:                Sat, 24 Mar 2018   Prob (F-statistic):              0.647\n",
       "Time:                        12:09:49   Log-Likelihood:                -4761.1\n",
       "No. Observations:                 824   AIC:                             9528.\n",
       "Df Residuals:                     821   BIC:                             9542.\n",
       "Df Model:                           3                                         \n",
       "Covariance Type:            nonrobust                                         \n",
       "==============================================================================\n",
       "                 coef    std err          t      P>|t|      [0.025      0.975]\n",
       "------------------------------------------------------------------------------\n",
       "Sentiment     94.4791     76.266      1.239      0.216     -55.220     244.178\n",
       "Volume      2.791e-05   4.69e-05      0.596      0.552   -6.41e-05       0.000\n",
       "NoOfTweets    -0.0033      0.003     -1.237      0.217      -0.008       0.002\n",
       "==============================================================================\n",
       "Omnibus:                      134.781   Durbin-Watson:                   2.027\n",
       "Prob(Omnibus):                  0.000   Jarque-Bera (JB):             1051.750\n",
       "Skew:                           0.488   Prob(JB):                    4.12e-229\n",
       "Kurtosis:                       8.448   Cond. No.                     3.69e+06\n",
       "==============================================================================\n",
       "\n",
       "Warnings:\n",
       "[1] Standard Errors assume that the covariance matrix of the errors is correctly specified.\n",
       "[2] The condition number is large, 3.69e+06. This might indicate that there are\n",
       "strong multicollinearity or other numerical problems.\n",
       "\"\"\""
      ]
     },
     "execution_count": 93,
     "metadata": {},
     "output_type": "execute_result"
    }
   ],
   "source": [
    "lm_3 = LinearRegression()\n",
    "\n",
    "X_3 = btc_df_3[['Sentiment', 'Volume', 'NoOfTweets']]\n",
    "Y_3 = btc_df_3['Change']\n",
    "\n",
    "X_train_3, X_test_3, Y_train_3, Y_test_3 = train_test_split(X_3, Y_3, test_size=0.33, random_state=random_state)\n",
    "\n",
    "model_3 = sm.OLS(Y_3, X_3).fit()\n",
    "predictions = model_3.predict(X_3) # make the predictions by the model\n",
    "model_3.summary()"
   ]
  },
  {
   "cell_type": "code",
   "execution_count": 94,
   "metadata": {
    "collapsed": true
   },
   "outputs": [],
   "source": [
    "#lm = linear_model.LinearRegression()\n",
    "model = lm_3.fit(X_3,Y_3)"
   ]
  },
  {
   "cell_type": "code",
   "execution_count": 95,
   "metadata": {},
   "outputs": [
    {
     "name": "stdout",
     "output_type": "stream",
     "text": [
      "   Sentiment         Volume  NoOfTweets\n",
      "0   0.119320  101879.724252        5471\n",
      "1   0.144728  102439.846847        5095\n",
      "2   0.153438  103800.678995        5012\n",
      "3   0.142586  102671.102925        4908\n",
      "4   0.120732  101054.829766        4631\n",
      "[-3.99146785 -0.58100896  0.44417504 -0.04758156 -0.77116753]\n"
     ]
    }
   ],
   "source": [
    "predictions = lm_3.predict(X_3)\n",
    "print(X_3[0:5])\n",
    "print(predictions[0:5])"
   ]
  },
  {
   "cell_type": "code",
   "execution_count": 96,
   "metadata": {},
   "outputs": [
    {
     "data": {
      "text/plain": [
       "0.0020467634282066438"
      ]
     },
     "execution_count": 96,
     "metadata": {},
     "output_type": "execute_result"
    }
   ],
   "source": [
    "lm_3.score(X_3,Y_3)"
   ]
  },
  {
   "cell_type": "code",
   "execution_count": 97,
   "metadata": {},
   "outputs": [
    {
     "data": {
      "text/plain": [
       "4.6518851424558552"
      ]
     },
     "execution_count": 97,
     "metadata": {},
     "output_type": "execute_result"
    }
   ],
   "source": [
    "lm_3.intercept_"
   ]
  },
  {
   "cell_type": "code",
   "execution_count": 98,
   "metadata": {},
   "outputs": [
    {
     "data": {
      "text/html": [
       "<table class=\"simpletable\">\n",
       "<caption>OLS Regression Results</caption>\n",
       "<tr>\n",
       "  <th>Dep. Variable:</th>         <td>Change</td>      <th>  R-squared:         </th> <td>   0.008</td>\n",
       "</tr>\n",
       "<tr>\n",
       "  <th>Model:</th>                   <td>OLS</td>       <th>  Adj. R-squared:    </th> <td>   0.004</td>\n",
       "</tr>\n",
       "<tr>\n",
       "  <th>Method:</th>             <td>Least Squares</td>  <th>  F-statistic:       </th> <td>   2.137</td>\n",
       "</tr>\n",
       "<tr>\n",
       "  <th>Date:</th>             <td>Sat, 24 Mar 2018</td> <th>  Prob (F-statistic):</th>  <td>0.0941</td> \n",
       "</tr>\n",
       "<tr>\n",
       "  <th>Time:</th>                 <td>12:09:50</td>     <th>  Log-Likelihood:    </th> <td> -4874.1</td>\n",
       "</tr>\n",
       "<tr>\n",
       "  <th>No. Observations:</th>      <td>   844</td>      <th>  AIC:               </th> <td>   9754.</td>\n",
       "</tr>\n",
       "<tr>\n",
       "  <th>Df Residuals:</th>          <td>   841</td>      <th>  BIC:               </th> <td>   9768.</td>\n",
       "</tr>\n",
       "<tr>\n",
       "  <th>Df Model:</th>              <td>     3</td>      <th>                     </th>     <td> </td>   \n",
       "</tr>\n",
       "<tr>\n",
       "  <th>Covariance Type:</th>      <td>nonrobust</td>    <th>                     </th>     <td> </td>   \n",
       "</tr>\n",
       "</table>\n",
       "<table class=\"simpletable\">\n",
       "<tr>\n",
       "       <td></td>         <th>coef</th>     <th>std err</th>      <th>t</th>      <th>P>|t|</th>  <th>[0.025</th>    <th>0.975]</th>  \n",
       "</tr>\n",
       "<tr>\n",
       "  <th>Sentiment</th>  <td>  146.9388</td> <td>   62.398</td> <td>    2.355</td> <td> 0.019</td> <td>   24.465</td> <td>  269.412</td>\n",
       "</tr>\n",
       "<tr>\n",
       "  <th>Volume</th>     <td> 5.498e-05</td> <td>  4.6e-05</td> <td>    1.195</td> <td> 0.232</td> <td>-3.53e-05</td> <td>    0.000</td>\n",
       "</tr>\n",
       "<tr>\n",
       "  <th>NoOfTweets</th> <td>   -0.0064</td> <td>    0.003</td> <td>   -2.494</td> <td> 0.013</td> <td>   -0.011</td> <td>   -0.001</td>\n",
       "</tr>\n",
       "</table>\n",
       "<table class=\"simpletable\">\n",
       "<tr>\n",
       "  <th>Omnibus:</th>       <td>96.892</td> <th>  Durbin-Watson:     </th> <td>   2.159</td> \n",
       "</tr>\n",
       "<tr>\n",
       "  <th>Prob(Omnibus):</th> <td> 0.000</td> <th>  Jarque-Bera (JB):  </th> <td> 604.906</td> \n",
       "</tr>\n",
       "<tr>\n",
       "  <th>Skew:</th>          <td> 0.285</td> <th>  Prob(JB):          </th> <td>4.43e-132</td>\n",
       "</tr>\n",
       "<tr>\n",
       "  <th>Kurtosis:</th>      <td> 7.108</td> <th>  Cond. No.          </th> <td>3.08e+06</td> \n",
       "</tr>\n",
       "</table>"
      ],
      "text/plain": [
       "<class 'statsmodels.iolib.summary.Summary'>\n",
       "\"\"\"\n",
       "                            OLS Regression Results                            \n",
       "==============================================================================\n",
       "Dep. Variable:                 Change   R-squared:                       0.008\n",
       "Model:                            OLS   Adj. R-squared:                  0.004\n",
       "Method:                 Least Squares   F-statistic:                     2.137\n",
       "Date:                Sat, 24 Mar 2018   Prob (F-statistic):             0.0941\n",
       "Time:                        12:09:50   Log-Likelihood:                -4874.1\n",
       "No. Observations:                 844   AIC:                             9754.\n",
       "Df Residuals:                     841   BIC:                             9768.\n",
       "Df Model:                           3                                         \n",
       "Covariance Type:            nonrobust                                         \n",
       "==============================================================================\n",
       "                 coef    std err          t      P>|t|      [0.025      0.975]\n",
       "------------------------------------------------------------------------------\n",
       "Sentiment    146.9388     62.398      2.355      0.019      24.465     269.412\n",
       "Volume      5.498e-05    4.6e-05      1.195      0.232   -3.53e-05       0.000\n",
       "NoOfTweets    -0.0064      0.003     -2.494      0.013      -0.011      -0.001\n",
       "==============================================================================\n",
       "Omnibus:                       96.892   Durbin-Watson:                   2.159\n",
       "Prob(Omnibus):                  0.000   Jarque-Bera (JB):              604.906\n",
       "Skew:                           0.285   Prob(JB):                    4.43e-132\n",
       "Kurtosis:                       7.108   Cond. No.                     3.08e+06\n",
       "==============================================================================\n",
       "\n",
       "Warnings:\n",
       "[1] Standard Errors assume that the covariance matrix of the errors is correctly specified.\n",
       "[2] The condition number is large, 3.08e+06. This might indicate that there are\n",
       "strong multicollinearity or other numerical problems.\n",
       "\"\"\""
      ]
     },
     "execution_count": 98,
     "metadata": {},
     "output_type": "execute_result"
    }
   ],
   "source": [
    "lm_4 = LinearRegression()\n",
    "\n",
    "X_4 = btc_df_4[['Sentiment', 'Volume', 'NoOfTweets']]\n",
    "Y_4 = btc_df_4['Change']\n",
    "\n",
    "X_train_4, X_test_4, Y_train_4, Y_test_4 = train_test_split(X_4, Y_4, test_size=0.33, random_state=random_state)\n",
    "\n",
    "model_4 = sm.OLS(Y_4, X_4).fit()\n",
    "predictions = model_4.predict(X_4) # make the predictions by the model\n",
    "model_4.summary()"
   ]
  },
  {
   "cell_type": "code",
   "execution_count": 99,
   "metadata": {},
   "outputs": [],
   "source": [
    "model_4 = lm_4.fit(X_4,Y_4)"
   ]
  },
  {
   "cell_type": "code",
   "execution_count": 100,
   "metadata": {},
   "outputs": [
    {
     "name": "stdout",
     "output_type": "stream",
     "text": [
      "   Sentiment         Volume  NoOfTweets\n",
      "0   0.135402  101879.724252        5458\n",
      "1   0.166256  102439.846847        5155\n",
      "2   0.174352  103800.678995        5024\n",
      "3   0.163713  102671.102925        4914\n",
      "4   0.146757  101054.829766        4527\n",
      "[-8.6449248  -1.48230465  0.73492228 -0.73041379 -2.00031688]\n"
     ]
    }
   ],
   "source": [
    "predictions = lm_4.predict(X_4)\n",
    "print(X_4[0:5])\n",
    "print(predictions[0:5])"
   ]
  },
  {
   "cell_type": "code",
   "execution_count": 101,
   "metadata": {},
   "outputs": [
    {
     "data": {
      "text/plain": [
       "0.0079576905898477435"
      ]
     },
     "execution_count": 101,
     "metadata": {},
     "output_type": "execute_result"
    }
   ],
   "source": [
    "lm_4.score(X_4,Y_4)"
   ]
  },
  {
   "cell_type": "code",
   "execution_count": 102,
   "metadata": {},
   "outputs": [
    {
     "data": {
      "text/plain": [
       "-12.972028009730673"
      ]
     },
     "execution_count": 102,
     "metadata": {},
     "output_type": "execute_result"
    }
   ],
   "source": [
    "lm_4.intercept_"
   ]
  }
 ],
 "metadata": {
  "kernelspec": {
   "display_name": "Python 3",
   "language": "python",
   "name": "python3"
  },
  "language_info": {
   "codemirror_mode": {
    "name": "ipython",
    "version": 3
   },
   "file_extension": ".py",
   "mimetype": "text/x-python",
   "name": "python",
   "nbconvert_exporter": "python",
   "pygments_lexer": "ipython3",
   "version": "3.6.3"
  }
 },
 "nbformat": 4,
 "nbformat_minor": 2
}
