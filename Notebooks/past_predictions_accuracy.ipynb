{
 "cells": [
  {
   "cell_type": "code",
   "execution_count": 11,
   "metadata": {
    "collapsed": true
   },
   "outputs": [],
   "source": [
    "import pandas as pd \n",
    "\n",
    "btc_past = pd.read_csv('C:/Users/Thomas/Desktop/Bitcoin_Data/Version_2/btcPastPredictions.csv')"
   ]
  },
  {
   "cell_type": "code",
   "execution_count": 12,
   "metadata": {},
   "outputs": [
    {
     "data": {
      "text/html": [
       "<div>\n",
       "<style>\n",
       "    .dataframe thead tr:only-child th {\n",
       "        text-align: right;\n",
       "    }\n",
       "\n",
       "    .dataframe thead th {\n",
       "        text-align: left;\n",
       "    }\n",
       "\n",
       "    .dataframe tbody tr th {\n",
       "        vertical-align: top;\n",
       "    }\n",
       "</style>\n",
       "<table border=\"1\" class=\"dataframe\">\n",
       "  <thead>\n",
       "    <tr style=\"text-align: right;\">\n",
       "      <th></th>\n",
       "      <th>Unnamed: 0</th>\n",
       "      <th>Actual Prediction</th>\n",
       "      <th>Average Prediction</th>\n",
       "      <th>Forest Prediction</th>\n",
       "      <th>Linear Prediction</th>\n",
       "      <th>Multi Linear Prediction</th>\n",
       "      <th>TimeStamp</th>\n",
       "    </tr>\n",
       "  </thead>\n",
       "  <tbody>\n",
       "    <tr>\n",
       "      <th>0</th>\n",
       "      <td>0</td>\n",
       "      <td>6761.887980</td>\n",
       "      <td>6766.960861</td>\n",
       "      <td>6766.741393</td>\n",
       "      <td>6780.691728</td>\n",
       "      <td>6753.449462</td>\n",
       "      <td>18:04:09-14:48:36</td>\n",
       "    </tr>\n",
       "    <tr>\n",
       "      <th>1</th>\n",
       "      <td>0</td>\n",
       "      <td>6764.499548</td>\n",
       "      <td>6764.292377</td>\n",
       "      <td>6781.263929</td>\n",
       "      <td>6765.217493</td>\n",
       "      <td>6746.395709</td>\n",
       "      <td>18:04:09-14:50:40</td>\n",
       "    </tr>\n",
       "    <tr>\n",
       "      <th>2</th>\n",
       "      <td>0</td>\n",
       "      <td>6761.441916</td>\n",
       "      <td>6757.280152</td>\n",
       "      <td>6754.876886</td>\n",
       "      <td>6767.742102</td>\n",
       "      <td>6749.221468</td>\n",
       "      <td>18:04:09-14:52:36</td>\n",
       "    </tr>\n",
       "    <tr>\n",
       "      <th>3</th>\n",
       "      <td>0</td>\n",
       "      <td>6753.701908</td>\n",
       "      <td>6758.424248</td>\n",
       "      <td>6769.515000</td>\n",
       "      <td>6759.558070</td>\n",
       "      <td>6746.199673</td>\n",
       "      <td>18:04:09-14:54:37</td>\n",
       "    </tr>\n",
       "    <tr>\n",
       "      <th>4</th>\n",
       "      <td>0</td>\n",
       "      <td>6747.640640</td>\n",
       "      <td>6737.972812</td>\n",
       "      <td>6725.371721</td>\n",
       "      <td>6749.902276</td>\n",
       "      <td>6738.644438</td>\n",
       "      <td>18:04:09-14:56:36</td>\n",
       "    </tr>\n",
       "  </tbody>\n",
       "</table>\n",
       "</div>"
      ],
      "text/plain": [
       "   Unnamed: 0  Actual Prediction  Average Prediction  Forest Prediction  \\\n",
       "0           0        6761.887980         6766.960861        6766.741393   \n",
       "1           0        6764.499548         6764.292377        6781.263929   \n",
       "2           0        6761.441916         6757.280152        6754.876886   \n",
       "3           0        6753.701908         6758.424248        6769.515000   \n",
       "4           0        6747.640640         6737.972812        6725.371721   \n",
       "\n",
       "   Linear Prediction  Multi Linear Prediction          TimeStamp  \n",
       "0        6780.691728              6753.449462  18:04:09-14:48:36  \n",
       "1        6765.217493              6746.395709  18:04:09-14:50:40  \n",
       "2        6767.742102              6749.221468  18:04:09-14:52:36  \n",
       "3        6759.558070              6746.199673  18:04:09-14:54:37  \n",
       "4        6749.902276              6738.644438  18:04:09-14:56:36  "
      ]
     },
     "execution_count": 12,
     "metadata": {},
     "output_type": "execute_result"
    }
   ],
   "source": [
    "btc_past.head(5)"
   ]
  },
  {
   "cell_type": "code",
   "execution_count": 13,
   "metadata": {},
   "outputs": [],
   "source": [
    "average_list = []\n",
    "for index, row in btc_past.iterrows():\n",
    "    if row[\"Actual Prediction\"] > row[\"Average Prediction\"]:\n",
    "        average_list.append((abs(row[\"Actual Prediction\"] - row[\"Average Prediction\"]) / row[\"Actual Prediction\"]) * 100)\n",
    "        #print((abs(row[\"Actual Prediction\"] - row[\"Average Prediction\"]) / row[\"Actual Prediction\"]) * 100)\n",
    "    elif row[\"Actual Prediction\"] < row[\"Average Prediction\"]:\n",
    "        average_list.append((abs(row[\"Actual Prediction\"] - row[\"Average Prediction\"]) / row[\"Average Prediction\"]) * 100)\n",
    "        #print((abs(row[\"Actual Prediction\"] - row[\"Average Prediction\"])/row[\"Average Prediction\"]) * 100)\n",
    "    else:\n",
    "        average_list.append(0)\n",
    "        #print(0)\n",
    "        "
   ]
  },
  {
   "cell_type": "code",
   "execution_count": 14,
   "metadata": {},
   "outputs": [
    {
     "name": "stdout",
     "output_type": "stream",
     "text": [
      "Average prediction off by :  0.35354555133115906\n"
     ]
    }
   ],
   "source": [
    "print(\"Average prediction off by : \",str(sum(average_list)/len(average_list)))"
   ]
  }
 ],
 "metadata": {
  "kernelspec": {
   "display_name": "Python 3",
   "language": "python",
   "name": "python3"
  },
  "language_info": {
   "codemirror_mode": {
    "name": "ipython",
    "version": 3
   },
   "file_extension": ".py",
   "mimetype": "text/x-python",
   "name": "python",
   "nbconvert_exporter": "python",
   "pygments_lexer": "ipython3",
   "version": "3.6.3"
  }
 },
 "nbformat": 4,
 "nbformat_minor": 2
}
