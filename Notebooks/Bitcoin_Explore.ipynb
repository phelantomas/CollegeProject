{
 "cells": [
  {
   "cell_type": "code",
   "execution_count": 2,
   "metadata": {
    "collapsed": true
   },
   "outputs": [],
   "source": [
    "import pandas as pd\n",
    "import numpy as np\n",
    "from sklearn import datasets, linear_model\n",
    "from sklearn.model_selection import train_test_split\n",
    "from sklearn.metrics import mean_squared_error, r2_score\n",
    "from sklearn import preprocessing\n",
    "from sklearn import utils\n",
    "from sklearn.metrics import mean_squared_error, r2_score\n",
    "from sklearn.linear_model import LinearRegression\n",
    "import matplotlib.pyplot as plt"
   ]
  },
  {
   "cell_type": "code",
   "execution_count": 3,
   "metadata": {
    "collapsed": true
   },
   "outputs": [],
   "source": [
    "btc_df_1 = pd.read_csv('C:/Users/Thomas/Desktop/Bitcoin_Data/Version_1/btcFeature.csv')\n",
    "btc_df_2 = pd.read_csv('C:/Users/Thomas/Desktop/Bitcoin_Data/Version_2/btcFeature.csv')\n",
    "btc_df_3 = pd.read_csv('C:/Users/Thomas/Desktop/Bitcoin_Data/Version_3/btcFeature.csv')\n",
    "btc_df_4 = pd.read_csv('C:/Users/Thomas/Desktop/Bitcoin_Data/Version_4/btcFeature.csv')"
   ]
  },
  {
   "cell_type": "code",
   "execution_count": 4,
   "metadata": {},
   "outputs": [
    {
     "data": {
      "text/plain": [
       "count    850.000000\n",
       "mean       0.169029\n",
       "std       75.428318\n",
       "min     -332.659757\n",
       "25%      -30.897784\n",
       "50%        0.009998\n",
       "75%       31.425020\n",
       "max      373.658158\n",
       "Name: Change, dtype: float64"
      ]
     },
     "execution_count": 4,
     "metadata": {},
     "output_type": "execute_result"
    }
   ],
   "source": [
    "btc_df_1['Change'].describe()"
   ]
  },
  {
   "cell_type": "code",
   "execution_count": 5,
   "metadata": {},
   "outputs": [
    {
     "data": {
      "text/plain": [
       "count    850.000000\n",
       "mean       0.145739\n",
       "std        0.034800\n",
       "min        0.025902\n",
       "25%        0.124990\n",
       "50%        0.146017\n",
       "75%        0.169482\n",
       "max        0.244638\n",
       "Name: Sentiment, dtype: float64"
      ]
     },
     "execution_count": 5,
     "metadata": {},
     "output_type": "execute_result"
    }
   ],
   "source": [
    "btc_df_1['Sentiment'].describe()"
   ]
  },
  {
   "cell_type": "code",
   "execution_count": 6,
   "metadata": {},
   "outputs": [
    {
     "data": {
      "text/plain": [
       "count     850.000000\n",
       "mean     4472.550588\n",
       "std       813.906211\n",
       "min      1039.000000\n",
       "25%      3992.000000\n",
       "50%      4567.000000\n",
       "75%      5131.250000\n",
       "max      5880.000000\n",
       "Name: NoOfTweets, dtype: float64"
      ]
     },
     "execution_count": 6,
     "metadata": {},
     "output_type": "execute_result"
    }
   ],
   "source": [
    "btc_df_1['NoOfTweets'].describe()"
   ]
  },
  {
   "cell_type": "code",
   "execution_count": 7,
   "metadata": {},
   "outputs": [
    {
     "data": {
      "text/plain": [
       "count    825.000000\n",
       "mean       0.146008\n",
       "std        0.034225\n",
       "min        0.020266\n",
       "25%        0.124454\n",
       "50%        0.145741\n",
       "75%        0.168582\n",
       "max        0.243069\n",
       "Name: Sentiment, dtype: float64"
      ]
     },
     "execution_count": 7,
     "metadata": {},
     "output_type": "execute_result"
    }
   ],
   "source": [
    "btc_df_2['Sentiment'].describe()"
   ]
  }
 ],
 "metadata": {
  "kernelspec": {
   "display_name": "Python 3",
   "language": "python",
   "name": "python3"
  },
  "language_info": {
   "codemirror_mode": {
    "name": "ipython",
    "version": 3
   },
   "file_extension": ".py",
   "mimetype": "text/x-python",
   "name": "python",
   "nbconvert_exporter": "python",
   "pygments_lexer": "ipython3",
   "version": "3.6.3"
  }
 },
 "nbformat": 4,
 "nbformat_minor": 2
}
