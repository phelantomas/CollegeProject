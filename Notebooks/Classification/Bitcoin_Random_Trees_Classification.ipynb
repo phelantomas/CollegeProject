{
 "cells": [
  {
   "cell_type": "code",
   "execution_count": 12,
   "metadata": {
    "collapsed": true
   },
   "outputs": [],
   "source": [
    "import pandas as pd\n",
    "import numpy as np\n",
    "from sklearn.model_selection import train_test_split\n",
    "from sklearn.metrics import mean_squared_error, r2_score\n",
    "from sklearn import preprocessing\n",
    "from sklearn import utils\n",
    "from sklearn.metrics import mean_squared_error, r2_score\n",
    "from sklearn.ensemble import RandomForestClassifier\n",
    "from sklearn.tree import DecisionTreeClassifier\n",
    "from sklearn.datasets import make_classification\n",
    "import matplotlib.pyplot as plt\n",
    "from sklearn import tree\n",
    "from sklearn.model_selection import cross_val_score\n",
    "import os     \n",
    "import pydotplus\n",
    "os.environ[\"PATH\"] += os.pathsep + 'C:/Users/Thomas/Anaconda3/Library/bin/graphviz'"
   ]
  },
  {
   "cell_type": "code",
   "execution_count": 13,
   "metadata": {
    "collapsed": true
   },
   "outputs": [],
   "source": [
    "df_1 = pd.read_csv('C:/Users/Thomas/Desktop/Bitcoin_Data/Version_1/btcFeature.csv')\n",
    "df_2 = pd.read_csv('C:/Users/Thomas/Desktop/Bitcoin_Data/Version_2/btcFeature.csv')\n",
    "df_3 = pd.read_csv('C:/Users/Thomas/Desktop/Bitcoin_Data/Version_3/btcFeature.csv')\n",
    "df_4 = pd.read_csv('C:/Users/Thomas/Desktop/Bitcoin_Data/Version_4/btcFeature.csv')"
   ]
  },
  {
   "cell_type": "code",
   "execution_count": 14,
   "metadata": {},
   "outputs": [
    {
     "data": {
      "text/html": [
       "<div>\n",
       "<style>\n",
       "    .dataframe thead tr:only-child th {\n",
       "        text-align: right;\n",
       "    }\n",
       "\n",
       "    .dataframe thead th {\n",
       "        text-align: left;\n",
       "    }\n",
       "\n",
       "    .dataframe tbody tr th {\n",
       "        vertical-align: top;\n",
       "    }\n",
       "</style>\n",
       "<table border=\"1\" class=\"dataframe\">\n",
       "  <thead>\n",
       "    <tr style=\"text-align: right;\">\n",
       "      <th></th>\n",
       "      <th>Unnamed: 0</th>\n",
       "      <th>Change</th>\n",
       "      <th>NoOfTweets</th>\n",
       "      <th>Price</th>\n",
       "      <th>Sentiment</th>\n",
       "      <th>TimeStamp</th>\n",
       "      <th>Volume</th>\n",
       "    </tr>\n",
       "  </thead>\n",
       "  <tbody>\n",
       "    <tr>\n",
       "      <th>0</th>\n",
       "      <td>0</td>\n",
       "      <td>-16.361552</td>\n",
       "      <td>5467</td>\n",
       "      <td>10895.972636</td>\n",
       "      <td>0.129824</td>\n",
       "      <td>1517006461</td>\n",
       "      <td>101879.724252</td>\n",
       "    </tr>\n",
       "    <tr>\n",
       "      <th>1</th>\n",
       "      <td>0</td>\n",
       "      <td>160.020423</td>\n",
       "      <td>5126</td>\n",
       "      <td>11087.754289</td>\n",
       "      <td>0.164874</td>\n",
       "      <td>1517010061</td>\n",
       "      <td>102390.922041</td>\n",
       "    </tr>\n",
       "    <tr>\n",
       "      <th>2</th>\n",
       "      <td>0</td>\n",
       "      <td>15.984359</td>\n",
       "      <td>4988</td>\n",
       "      <td>11190.677842</td>\n",
       "      <td>0.179189</td>\n",
       "      <td>1517013662</td>\n",
       "      <td>103844.936107</td>\n",
       "    </tr>\n",
       "    <tr>\n",
       "      <th>3</th>\n",
       "      <td>0</td>\n",
       "      <td>17.695245</td>\n",
       "      <td>4938</td>\n",
       "      <td>11054.557901</td>\n",
       "      <td>0.164394</td>\n",
       "      <td>1517017261</td>\n",
       "      <td>102671.806232</td>\n",
       "    </tr>\n",
       "    <tr>\n",
       "      <th>4</th>\n",
       "      <td>0</td>\n",
       "      <td>238.671977</td>\n",
       "      <td>4657</td>\n",
       "      <td>11146.846681</td>\n",
       "      <td>0.147747</td>\n",
       "      <td>1517020862</td>\n",
       "      <td>100960.453183</td>\n",
       "    </tr>\n",
       "  </tbody>\n",
       "</table>\n",
       "</div>"
      ],
      "text/plain": [
       "   Unnamed: 0      Change  NoOfTweets         Price  Sentiment   TimeStamp  \\\n",
       "0           0  -16.361552        5467  10895.972636   0.129824  1517006461   \n",
       "1           0  160.020423        5126  11087.754289   0.164874  1517010061   \n",
       "2           0   15.984359        4988  11190.677842   0.179189  1517013662   \n",
       "3           0   17.695245        4938  11054.557901   0.164394  1517017261   \n",
       "4           0  238.671977        4657  11146.846681   0.147747  1517020862   \n",
       "\n",
       "          Volume  \n",
       "0  101879.724252  \n",
       "1  102390.922041  \n",
       "2  103844.936107  \n",
       "3  102671.806232  \n",
       "4  100960.453183  "
      ]
     },
     "execution_count": 14,
     "metadata": {},
     "output_type": "execute_result"
    }
   ],
   "source": [
    "df_1.head(5)"
   ]
  },
  {
   "cell_type": "code",
   "execution_count": 15,
   "metadata": {
    "collapsed": true
   },
   "outputs": [],
   "source": [
    "shift = -1\n",
    "random_state = 0\n",
    "df_1.Change = df_1.Change.shift(shift)\n",
    "df_1 = df_1.dropna()"
   ]
  },
  {
   "cell_type": "code",
   "execution_count": 16,
   "metadata": {
    "collapsed": true
   },
   "outputs": [],
   "source": [
    "average = 0.13 #0.145739 \n",
    "\n",
    "df_1.Change = df_1.Change.astype(str)\n",
    "df_1.Sentiment = df_1.Sentiment.astype(str)\n",
    "for index, row in df_1.iterrows():\n",
    "    if float(row['Change']) < 0.0:\n",
    "        df_1.set_value(index,'Change', \"Buy\")\n",
    "    else:\n",
    "        df_1.set_value(index, 'Change', \"Sell\")\n",
    "    if float(row['Sentiment']) <= average:\n",
    "        df_1.set_value(index,'Sentiment', 1)\n",
    "    else:\n",
    "        df_1.set_value(index, 'Sentiment', -1)\n",
    "\n",
    "df_2.Change = df_2.Change.astype(str)\n",
    "df_2.Sentiment = df_2.Sentiment.astype(str)\n",
    "for index, row in df_2.iterrows():\n",
    "    if float(row['Change']) < 0.0:\n",
    "        df_2.set_value(index,'Change', \"Buy\")\n",
    "    else:\n",
    "        df_2.set_value(index, 'Change', \"Sell\")\n",
    "    if float(row['Sentiment']) <= average:\n",
    "        df_2.set_value(index,'Sentiment', 1)\n",
    "    else:\n",
    "        df_2.set_value(index, 'Sentiment', -1)"
   ]
  },
  {
   "cell_type": "code",
   "execution_count": 17,
   "metadata": {},
   "outputs": [
    {
     "data": {
      "text/plain": [
       "DecisionTreeClassifier(class_weight=None, criterion='gini', max_depth=150,\n",
       "            max_features=None, max_leaf_nodes=2, min_impurity_decrease=0.0,\n",
       "            min_impurity_split=None, min_samples_leaf=50,\n",
       "            min_samples_split=2, min_weight_fraction_leaf=0.0,\n",
       "            presort=False, random_state=None, splitter='best')"
      ]
     },
     "execution_count": 17,
     "metadata": {},
     "output_type": "execute_result"
    }
   ],
   "source": [
    "clf = RandomForestClassifier(max_leaf_nodes=2, min_samples_leaf=50, max_depth=150)\n",
    "dt = DecisionTreeClassifier(max_leaf_nodes=2, min_samples_leaf=50, max_depth=150)\n",
    "\n",
    "X = df_1['Sentiment']\n",
    "Y = df_1['Change']\n",
    "\n",
    "X = X.values.reshape(len(X), 1)\n",
    "Y = Y.values.reshape(len(Y), 1)\n",
    "\n",
    "X_train, X_test, Y_train, Y_test = train_test_split(X, Y, test_size=0.33, random_state=0)\n",
    "\n",
    "clf.fit(X_train, Y_train.ravel())\n",
    "dt.fit(X_train, Y_train.ravel())"
   ]
  },
  {
   "cell_type": "code",
   "execution_count": 18,
   "metadata": {},
   "outputs": [
    {
     "name": "stdout",
     "output_type": "stream",
     "text": [
      "[ 0.5212766   0.5212766   0.51612903]\n",
      "0.501779359431\n",
      "[ 0.5212766   0.5212766   0.51612903]\n",
      "0.501779359431\n"
     ]
    },
    {
     "name": "stderr",
     "output_type": "stream",
     "text": [
      "C:\\Users\\Thomas\\Anaconda3\\lib\\site-packages\\sklearn\\model_selection\\_validation.py:458: DataConversionWarning: A column-vector y was passed when a 1d array was expected. Please change the shape of y to (n_samples,), for example using ravel().\n",
      "  estimator.fit(X_train, y_train, **fit_params)\n",
      "C:\\Users\\Thomas\\Anaconda3\\lib\\site-packages\\sklearn\\model_selection\\_validation.py:458: DataConversionWarning: A column-vector y was passed when a 1d array was expected. Please change the shape of y to (n_samples,), for example using ravel().\n",
      "  estimator.fit(X_train, y_train, **fit_params)\n",
      "C:\\Users\\Thomas\\Anaconda3\\lib\\site-packages\\sklearn\\model_selection\\_validation.py:458: DataConversionWarning: A column-vector y was passed when a 1d array was expected. Please change the shape of y to (n_samples,), for example using ravel().\n",
      "  estimator.fit(X_train, y_train, **fit_params)\n"
     ]
    }
   ],
   "source": [
    "dt_cross_score = cross_val_score(dt, X_test, Y_test)\n",
    "dt_score = dt.score(X_test, Y_test)\n",
    "\n",
    "clf_cross_score = cross_val_score(clf, X_test, Y_test)\n",
    "clf_score = clf.score(X_test, Y_test)\n",
    "\n",
    "print(dt_cross_score)\n",
    "print(dt_score)\n",
    "\n",
    "print(clf_cross_score)\n",
    "print(clf_score)"
   ]
  },
  {
   "cell_type": "code",
   "execution_count": 19,
   "metadata": {},
   "outputs": [
    {
     "data": {
      "text/plain": [
       "[DecisionTreeClassifier(class_weight=None, criterion='gini', max_depth=150,\n",
       "             max_features='auto', max_leaf_nodes=2,\n",
       "             min_impurity_decrease=0.0, min_impurity_split=None,\n",
       "             min_samples_leaf=50, min_samples_split=2,\n",
       "             min_weight_fraction_leaf=0.0, presort=False,\n",
       "             random_state=2062795497, splitter='best'),\n",
       " DecisionTreeClassifier(class_weight=None, criterion='gini', max_depth=150,\n",
       "             max_features='auto', max_leaf_nodes=2,\n",
       "             min_impurity_decrease=0.0, min_impurity_split=None,\n",
       "             min_samples_leaf=50, min_samples_split=2,\n",
       "             min_weight_fraction_leaf=0.0, presort=False,\n",
       "             random_state=75921482, splitter='best'),\n",
       " DecisionTreeClassifier(class_weight=None, criterion='gini', max_depth=150,\n",
       "             max_features='auto', max_leaf_nodes=2,\n",
       "             min_impurity_decrease=0.0, min_impurity_split=None,\n",
       "             min_samples_leaf=50, min_samples_split=2,\n",
       "             min_weight_fraction_leaf=0.0, presort=False,\n",
       "             random_state=1571484931, splitter='best'),\n",
       " DecisionTreeClassifier(class_weight=None, criterion='gini', max_depth=150,\n",
       "             max_features='auto', max_leaf_nodes=2,\n",
       "             min_impurity_decrease=0.0, min_impurity_split=None,\n",
       "             min_samples_leaf=50, min_samples_split=2,\n",
       "             min_weight_fraction_leaf=0.0, presort=False,\n",
       "             random_state=122797748, splitter='best'),\n",
       " DecisionTreeClassifier(class_weight=None, criterion='gini', max_depth=150,\n",
       "             max_features='auto', max_leaf_nodes=2,\n",
       "             min_impurity_decrease=0.0, min_impurity_split=None,\n",
       "             min_samples_leaf=50, min_samples_split=2,\n",
       "             min_weight_fraction_leaf=0.0, presort=False,\n",
       "             random_state=334078635, splitter='best'),\n",
       " DecisionTreeClassifier(class_weight=None, criterion='gini', max_depth=150,\n",
       "             max_features='auto', max_leaf_nodes=2,\n",
       "             min_impurity_decrease=0.0, min_impurity_split=None,\n",
       "             min_samples_leaf=50, min_samples_split=2,\n",
       "             min_weight_fraction_leaf=0.0, presort=False,\n",
       "             random_state=1673244544, splitter='best'),\n",
       " DecisionTreeClassifier(class_weight=None, criterion='gini', max_depth=150,\n",
       "             max_features='auto', max_leaf_nodes=2,\n",
       "             min_impurity_decrease=0.0, min_impurity_split=None,\n",
       "             min_samples_leaf=50, min_samples_split=2,\n",
       "             min_weight_fraction_leaf=0.0, presort=False,\n",
       "             random_state=1942447158, splitter='best'),\n",
       " DecisionTreeClassifier(class_weight=None, criterion='gini', max_depth=150,\n",
       "             max_features='auto', max_leaf_nodes=2,\n",
       "             min_impurity_decrease=0.0, min_impurity_split=None,\n",
       "             min_samples_leaf=50, min_samples_split=2,\n",
       "             min_weight_fraction_leaf=0.0, presort=False,\n",
       "             random_state=1325105423, splitter='best'),\n",
       " DecisionTreeClassifier(class_weight=None, criterion='gini', max_depth=150,\n",
       "             max_features='auto', max_leaf_nodes=2,\n",
       "             min_impurity_decrease=0.0, min_impurity_split=None,\n",
       "             min_samples_leaf=50, min_samples_split=2,\n",
       "             min_weight_fraction_leaf=0.0, presort=False,\n",
       "             random_state=38720447, splitter='best'),\n",
       " DecisionTreeClassifier(class_weight=None, criterion='gini', max_depth=150,\n",
       "             max_features='auto', max_leaf_nodes=2,\n",
       "             min_impurity_decrease=0.0, min_impurity_split=None,\n",
       "             min_samples_leaf=50, min_samples_split=2,\n",
       "             min_weight_fraction_leaf=0.0, presort=False,\n",
       "             random_state=1028018457, splitter='best')]"
      ]
     },
     "execution_count": 19,
     "metadata": {},
     "output_type": "execute_result"
    }
   ],
   "source": [
    "clf.estimators_"
   ]
  },
  {
   "cell_type": "code",
   "execution_count": 20,
   "metadata": {},
   "outputs": [
    {
     "data": {
      "text/plain": [
       "True"
      ]
     },
     "execution_count": 20,
     "metadata": {},
     "output_type": "execute_result"
    }
   ],
   "source": [
    "dot_data = tree.export_graphviz(dt, out_file=None, \n",
    "                         feature_names=['Sentiment'],  \n",
    "                         filled=True, rounded=False,  ) \n",
    "graph = pydotplus.graph_from_dot_data(dot_data)\n",
    "graph.write_png('bit_tree.png')\n",
    "graph.write_svg(\"bit_tree.svg\")"
   ]
  },
  {
   "cell_type": "code",
   "execution_count": 21,
   "metadata": {},
   "outputs": [
    {
     "data": {
      "text/plain": [
       "DecisionTreeClassifier(class_weight=None, criterion='gini', max_depth=None,\n",
       "            max_features=None, max_leaf_nodes=None,\n",
       "            min_impurity_decrease=0.0, min_impurity_split=None,\n",
       "            min_samples_leaf=1, min_samples_split=2,\n",
       "            min_weight_fraction_leaf=0.0, presort=False, random_state=0,\n",
       "            splitter='best')"
      ]
     },
     "execution_count": 21,
     "metadata": {},
     "output_type": "execute_result"
    }
   ],
   "source": [
    "clf = RandomForestClassifier()\n",
    "dt = DecisionTreeClassifier(random_state=0)\n",
    "\n",
    "X = df_2['Sentiment']\n",
    "Y = df_2['Change']\n",
    "\n",
    "X = X.values.reshape(len(X), 1)\n",
    "Y = Y.values.reshape(len(Y), 1)\n",
    "\n",
    "X_train, X_test, Y_train, Y_test = train_test_split(X, Y, test_size=0.33, random_state=0)\n",
    "\n",
    "clf.fit(X_train, Y_train.ravel())\n",
    "dt.fit(X_train, Y_train.ravel())"
   ]
  },
  {
   "cell_type": "code",
   "execution_count": 22,
   "metadata": {},
   "outputs": [
    {
     "name": "stdout",
     "output_type": "stream",
     "text": [
      "[ 0.54347826  0.46153846  0.52222222]\n",
      "0.472527472527\n",
      "[ 0.52173913  0.46153846  0.57777778]\n",
      "0.479853479853\n"
     ]
    },
    {
     "name": "stderr",
     "output_type": "stream",
     "text": [
      "C:\\Users\\Thomas\\Anaconda3\\lib\\site-packages\\sklearn\\model_selection\\_validation.py:458: DataConversionWarning: A column-vector y was passed when a 1d array was expected. Please change the shape of y to (n_samples,), for example using ravel().\n",
      "  estimator.fit(X_train, y_train, **fit_params)\n",
      "C:\\Users\\Thomas\\Anaconda3\\lib\\site-packages\\sklearn\\model_selection\\_validation.py:458: DataConversionWarning: A column-vector y was passed when a 1d array was expected. Please change the shape of y to (n_samples,), for example using ravel().\n",
      "  estimator.fit(X_train, y_train, **fit_params)\n",
      "C:\\Users\\Thomas\\Anaconda3\\lib\\site-packages\\sklearn\\model_selection\\_validation.py:458: DataConversionWarning: A column-vector y was passed when a 1d array was expected. Please change the shape of y to (n_samples,), for example using ravel().\n",
      "  estimator.fit(X_train, y_train, **fit_params)\n"
     ]
    }
   ],
   "source": [
    "dt_cross_score = cross_val_score(dt, X_test, Y_test)\n",
    "dt_score = dt.score(X_test, Y_test)\n",
    "\n",
    "clf_cross_score = cross_val_score(clf, X_test, Y_test)\n",
    "clf_score = clf.score(X_test, Y_test)\n",
    "\n",
    "print(dt_cross_score)\n",
    "print(dt_score)\n",
    "\n",
    "print(clf_cross_score)\n",
    "print(clf_score)"
   ]
  }
 ],
 "metadata": {
  "kernelspec": {
   "display_name": "Python 3",
   "language": "python",
   "name": "python3"
  },
  "language_info": {
   "codemirror_mode": {
    "name": "ipython",
    "version": 3
   },
   "file_extension": ".py",
   "mimetype": "text/x-python",
   "name": "python",
   "nbconvert_exporter": "python",
   "pygments_lexer": "ipython3",
   "version": "3.6.3"
  }
 },
 "nbformat": 4,
 "nbformat_minor": 2
}
