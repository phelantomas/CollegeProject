{
 "cells": [
  {
   "cell_type": "code",
   "execution_count": 72,
   "metadata": {
    "collapsed": true
   },
   "outputs": [],
   "source": [
    "import pandas as pd\n",
    "import plotly.plotly as py\n",
    "import plotly.graph_objs as go\n",
    "%matplotlib inline "
   ]
  },
  {
   "cell_type": "code",
   "execution_count": 73,
   "metadata": {
    "collapsed": true
   },
   "outputs": [],
   "source": [
    "def calculate_accuracy(average_list, threshold):\n",
    "    numbers_correct = 0\n",
    "    for accuracy in average_list:\n",
    "        if accuracy <= threshold:\n",
    "            numbers_correct += 1\n",
    "    return (100 * float(numbers_correct)/float(len(average_list)))"
   ]
  },
  {
   "cell_type": "code",
   "execution_count": 74,
   "metadata": {
    "collapsed": true
   },
   "outputs": [],
   "source": [
    "def generate_average_list(data_frame):\n",
    "    average_list = []\n",
    "    for index, row in data_frame.iterrows():\n",
    "        if row[\"Actual Price\"] > row[\"Average Prediction\"]:\n",
    "            average_list.append((abs(row[\"Actual Price\"] - row[\"Average Prediction\"]) / row[\"Actual Price\"]) * 100)\n",
    "        elif row[\"Actual Price\"] < row[\"Average Prediction\"]:\n",
    "            average_list.append((abs(row[\"Actual Price\"] - row[\"Average Prediction\"]) / row[\"Average Prediction\"]) * 100)\n",
    "        else:\n",
    "            average_list.append(0)\n",
    "    return average_list"
   ]
  },
  {
   "cell_type": "code",
   "execution_count": 75,
   "metadata": {
    "collapsed": true
   },
   "outputs": [],
   "source": [
    "def most_accurate_algorithm(data_frame):\n",
    "    average_list_linear = []\n",
    "    average_list_multi = []\n",
    "    average_list_tree = []\n",
    "    average_list_forest = []\n",
    "    for index, row in data_frame.iterrows():\n",
    "        #Linear\n",
    "        if row[\"Actual Price\"] > row[\"Linear Prediction\"]:\n",
    "            average_list_linear.append((abs(row[\"Actual Price\"] - row[\"Linear Prediction\"]) / row[\"Actual Price\"]) * 100)\n",
    "        elif row[\"Actual Price\"] < row[\"Average Prediction\"]:\n",
    "            average_list_linear.append((abs(row[\"Actual Price\"] - row[\"Linear Prediction\"]) / row[\"Linear Prediction\"]) * 100)\n",
    "        else:\n",
    "            average_list_linear.append(0)\n",
    "        #Multi\n",
    "        if row[\"Actual Price\"] > row[\"Multi Linear Prediction\"]:\n",
    "            average_list_multi.append((abs(row[\"Actual Price\"] - row[\"Multi Linear Prediction\"]) / row[\"Actual Price\"]) * 100)\n",
    "        elif row[\"Actual Price\"] < row[\"Average Prediction\"]:\n",
    "            average_list_multi.append((abs(row[\"Actual Price\"] - row[\"Multi Linear Prediction\"]) / row[\"Multi Linear Prediction\"]) * 100)\n",
    "        else:\n",
    "            average_list_multi.append(0)\n",
    "        #Tree\n",
    "        if row[\"Actual Price\"] > row[\"Tree Prediction\"]:\n",
    "            average_list_tree.append((abs(row[\"Actual Price\"] - row[\"Tree Prediction\"]) / row[\"Actual Price\"]) * 100)\n",
    "        elif row[\"Actual Price\"] < row[\"Average Prediction\"]:\n",
    "            average_list_tree.append((abs(row[\"Actual Price\"] - row[\"Tree Prediction\"]) / row[\"Tree Prediction\"]) * 100)\n",
    "        else:\n",
    "            average_list_tree.append(0)\n",
    "        #Forest\n",
    "        if row[\"Actual Price\"] > row[\"Forest Prediction\"]:\n",
    "            average_list_forest.append((abs(row[\"Actual Price\"] - row[\"Forest Prediction\"]) / row[\"Actual Price\"]) * 100)\n",
    "        elif row[\"Actual Price\"] < row[\"Average Prediction\"]:\n",
    "            average_list_forest.append((abs(row[\"Actual Price\"] - row[\"Forest Prediction\"]) / row[\"Forest Prediction\"]) * 100)\n",
    "        else:\n",
    "            average_list_forest.append(0)\n",
    "    return average_list_linear, average_list_multi, average_list_tree, average_list_forest"
   ]
  },
  {
   "cell_type": "code",
   "execution_count": 76,
   "metadata": {
    "collapsed": true
   },
   "outputs": [],
   "source": [
    "#Considered Accurate\n",
    "THRESHOLD = .1"
   ]
  },
  {
   "cell_type": "markdown",
   "metadata": {},
   "source": [
    "<h1>2 Minute Predictions Accuracy</h1>"
   ]
  },
  {
   "cell_type": "code",
   "execution_count": 77,
   "metadata": {
    "collapsed": true
   },
   "outputs": [],
   "source": [
    "btc_df = pd.read_csv('C:/Users/Thomas/Desktop/Bitcoin_Data/2_Minutes_BTC/btcPastPredictions.csv')"
   ]
  },
  {
   "cell_type": "code",
   "execution_count": 78,
   "metadata": {},
   "outputs": [
    {
     "data": {
      "text/html": [
       "<div>\n",
       "<style>\n",
       "    .dataframe thead tr:only-child th {\n",
       "        text-align: right;\n",
       "    }\n",
       "\n",
       "    .dataframe thead th {\n",
       "        text-align: left;\n",
       "    }\n",
       "\n",
       "    .dataframe tbody tr th {\n",
       "        vertical-align: top;\n",
       "    }\n",
       "</style>\n",
       "<table border=\"1\" class=\"dataframe\">\n",
       "  <thead>\n",
       "    <tr style=\"text-align: right;\">\n",
       "      <th></th>\n",
       "      <th>Unnamed: 0</th>\n",
       "      <th>Actual Price</th>\n",
       "      <th>Average Prediction</th>\n",
       "      <th>Forest Prediction</th>\n",
       "      <th>Linear Prediction</th>\n",
       "      <th>Multi Linear Prediction</th>\n",
       "      <th>TimeStamp</th>\n",
       "      <th>Tree Prediction</th>\n",
       "    </tr>\n",
       "  </thead>\n",
       "  <tbody>\n",
       "    <tr>\n",
       "      <th>0</th>\n",
       "      <td>0</td>\n",
       "      <td>8120.588847</td>\n",
       "      <td>8149.838554</td>\n",
       "      <td>8149.842075</td>\n",
       "      <td>8150.235642</td>\n",
       "      <td>8150.04094</td>\n",
       "      <td>18:04:13-19:32:44</td>\n",
       "      <td>8149.235561</td>\n",
       "    </tr>\n",
       "  </tbody>\n",
       "</table>\n",
       "</div>"
      ],
      "text/plain": [
       "   Unnamed: 0  Actual Price  Average Prediction  Forest Prediction  \\\n",
       "0           0   8120.588847         8149.838554        8149.842075   \n",
       "\n",
       "   Linear Prediction  Multi Linear Prediction          TimeStamp  \\\n",
       "0        8150.235642               8150.04094  18:04:13-19:32:44   \n",
       "\n",
       "   Tree Prediction  \n",
       "0      8149.235561  "
      ]
     },
     "execution_count": 78,
     "metadata": {},
     "output_type": "execute_result"
    }
   ],
   "source": [
    "btc_df.head(1)"
   ]
  },
  {
   "cell_type": "code",
   "execution_count": 79,
   "metadata": {
    "collapsed": true
   },
   "outputs": [],
   "source": [
    "average_list_2_minutes = generate_average_list(btc_df)"
   ]
  },
  {
   "cell_type": "markdown",
   "metadata": {},
   "source": [
    "<h2>Overall Accuracy</h2>"
   ]
  },
  {
   "cell_type": "markdown",
   "metadata": {},
   "source": [
    "<h3>Average Accuracy</h3>"
   ]
  },
  {
   "cell_type": "code",
   "execution_count": 80,
   "metadata": {},
   "outputs": [
    {
     "name": "stdout",
     "output_type": "stream",
     "text": [
      "Out of 844 predictions, accuracy was : 79.85781990521328\n"
     ]
    }
   ],
   "source": [
    "percentage = calculate_accuracy(average_list_2_minutes, THRESHOLD)\n",
    "print(\"Out of \" + str(len(average_list_2_minutes)) + \" predictions, accuracy was : \" + str(percentage))"
   ]
  },
  {
   "cell_type": "markdown",
   "metadata": {},
   "source": [
    "<h3>Algorithm Accuracy</h3>"
   ]
  },
  {
   "cell_type": "code",
   "execution_count": 81,
   "metadata": {},
   "outputs": [
    {
     "name": "stdout",
     "output_type": "stream",
     "text": [
      "Out of 844 predictions, accuracy for Linear was : 79.38388625592417\n",
      "Out of 844 predictions, accuracy for Multi was : 74.5260663507109\n",
      "Out of 844 predictions, accuracy for Tree was : 80.2132701421801\n",
      "Out of 844 predictions, accuracy for Forest was : 78.67298578199052\n"
     ]
    }
   ],
   "source": [
    "linear_acc_list, multi_acc_list, tree_acc_list, forest_acc_list = most_accurate_algorithm(btc_df)\n",
    "\n",
    "linear_percentage = calculate_accuracy(linear_acc_list, THRESHOLD)\n",
    "multi_percentage = calculate_accuracy(multi_acc_list, THRESHOLD)\n",
    "tree_percentage = calculate_accuracy(tree_acc_list, THRESHOLD)\n",
    "forest_percentage = calculate_accuracy(forest_acc_list, THRESHOLD)\n",
    "\n",
    "print(\"Out of \" + str(len(linear_acc_list)) + \" predictions, accuracy for Linear was : \" + str(linear_percentage))\n",
    "print(\"Out of \" + str(len(multi_acc_list)) + \" predictions, accuracy for Multi was : \" + str(multi_percentage))\n",
    "print(\"Out of \" + str(len(tree_acc_list)) + \" predictions, accuracy for Tree was : \" + str(tree_percentage))\n",
    "print(\"Out of \" + str(len(forest_acc_list)) + \" predictions, accuracy for Forest was : \" + str(forest_percentage))"
   ]
  },
  {
   "cell_type": "markdown",
   "metadata": {},
   "source": [
    "<h2>First 100</h2>"
   ]
  },
  {
   "cell_type": "markdown",
   "metadata": {},
   "source": [
    "<h3>Average Accuracy</h3>"
   ]
  },
  {
   "cell_type": "code",
   "execution_count": 82,
   "metadata": {},
   "outputs": [
    {
     "name": "stdout",
     "output_type": "stream",
     "text": [
      "Out of 100 predictions, accuracy was : 44.0\n"
     ]
    }
   ],
   "source": [
    "percentage = calculate_accuracy(average_list_2_minutes[:100], THRESHOLD)\n",
    "print(\"Out of \" + str(len(average_list_2_minutes[:100])) + \" predictions, accuracy was : \" + str(percentage))"
   ]
  },
  {
   "cell_type": "markdown",
   "metadata": {},
   "source": [
    "<h3>Algorithm Accurracy</h3>"
   ]
  },
  {
   "cell_type": "code",
   "execution_count": 83,
   "metadata": {},
   "outputs": [
    {
     "name": "stdout",
     "output_type": "stream",
     "text": [
      "Out of 100 predictions, accuracy for Linear was : 40.0\n",
      "Out of 100 predictions, accuracy for Multi was : 33.0\n",
      "Out of 100 predictions, accuracy for Tree was : 47.0\n",
      "Out of 100 predictions, accuracy for Forest was : 46.0\n"
     ]
    }
   ],
   "source": [
    "linear_percentage = calculate_accuracy(linear_acc_list[:100], THRESHOLD)\n",
    "multi_percentage = calculate_accuracy(multi_acc_list[:100], THRESHOLD)\n",
    "tree_percentage = calculate_accuracy(tree_acc_list[:100], THRESHOLD)\n",
    "forest_percentage = calculate_accuracy(forest_acc_list[:100], THRESHOLD)\n",
    "\n",
    "print(\"Out of \" + str(len(linear_acc_list[:100])) + \" predictions, accuracy for Linear was : \" + str(linear_percentage))\n",
    "print(\"Out of \" + str(len(multi_acc_list[:100])) + \" predictions, accuracy for Multi was : \" + str(multi_percentage))\n",
    "print(\"Out of \" + str(len(tree_acc_list[:100])) + \" predictions, accuracy for Tree was : \" + str(tree_percentage))\n",
    "print(\"Out of \" + str(len(forest_acc_list[:100])) + \" predictions, accuracy for Forest was : \" + str(forest_percentage))"
   ]
  },
  {
   "cell_type": "markdown",
   "metadata": {},
   "source": [
    "<h2>First 200</h2>"
   ]
  },
  {
   "cell_type": "markdown",
   "metadata": {},
   "source": [
    "<h3>Average Accuracy</h3>"
   ]
  },
  {
   "cell_type": "code",
   "execution_count": 84,
   "metadata": {},
   "outputs": [
    {
     "name": "stdout",
     "output_type": "stream",
     "text": [
      "Out of 200 predictions, accuracy was : 65.0\n"
     ]
    }
   ],
   "source": [
    "percentage = calculate_accuracy(average_list_2_minutes[:200], THRESHOLD)\n",
    "print(\"Out of \" + str(len(average_list_2_minutes[:200])) + \" predictions, accuracy was : \" + str(percentage))"
   ]
  },
  {
   "cell_type": "markdown",
   "metadata": {},
   "source": [
    "<h3>Algorithm Accuracy</h3>"
   ]
  },
  {
   "cell_type": "code",
   "execution_count": 85,
   "metadata": {},
   "outputs": [
    {
     "name": "stdout",
     "output_type": "stream",
     "text": [
      "Out of 200 predictions, accuracy for Linear was : 62.5\n",
      "Out of 200 predictions, accuracy for Multi was : 59.0\n",
      "Out of 200 predictions, accuracy for Tree was : 65.5\n",
      "Out of 200 predictions, accuracy for Forest was : 61.5\n"
     ]
    }
   ],
   "source": [
    "linear_percentage = calculate_accuracy(linear_acc_list[:200], THRESHOLD)\n",
    "multi_percentage = calculate_accuracy(multi_acc_list[:200], THRESHOLD)\n",
    "tree_percentage = calculate_accuracy(tree_acc_list[:200], THRESHOLD)\n",
    "forest_percentage = calculate_accuracy(forest_acc_list[:200], THRESHOLD)\n",
    "\n",
    "print(\"Out of \" + str(len(linear_acc_list[:200])) + \" predictions, accuracy for Linear was : \" + str(linear_percentage))\n",
    "print(\"Out of \" + str(len(multi_acc_list[:200])) + \" predictions, accuracy for Multi was : \" + str(multi_percentage))\n",
    "print(\"Out of \" + str(len(tree_acc_list[:200])) + \" predictions, accuracy for Tree was : \" + str(tree_percentage))\n",
    "print(\"Out of \" + str(len(forest_acc_list[:200])) + \" predictions, accuracy for Forest was : \" + str(forest_percentage))"
   ]
  },
  {
   "cell_type": "markdown",
   "metadata": {},
   "source": [
    "<h2>First 300</h2>"
   ]
  },
  {
   "cell_type": "markdown",
   "metadata": {},
   "source": [
    "<h3>Average Accuracy</h3>"
   ]
  },
  {
   "cell_type": "code",
   "execution_count": 86,
   "metadata": {},
   "outputs": [
    {
     "name": "stdout",
     "output_type": "stream",
     "text": [
      "Out of 300 predictions, accuracy was : 72.33333333333333\n"
     ]
    }
   ],
   "source": [
    "percentage = calculate_accuracy(average_list_2_minutes[:300], THRESHOLD)\n",
    "print(\"Out of \" + str(len(average_list_2_minutes[:300])) + \" predictions, accuracy was : \" + str(percentage))"
   ]
  },
  {
   "cell_type": "markdown",
   "metadata": {},
   "source": [
    "<h3>Algorithm Accuracy</h3>"
   ]
  },
  {
   "cell_type": "code",
   "execution_count": 87,
   "metadata": {},
   "outputs": [
    {
     "name": "stdout",
     "output_type": "stream",
     "text": [
      "Out of 300 predictions, accuracy for Linear was : 70.0\n",
      "Out of 300 predictions, accuracy for Multi was : 68.66666666666667\n",
      "Out of 300 predictions, accuracy for Tree was : 72.66666666666667\n",
      "Out of 300 predictions, accuracy for Forest was : 70.0\n"
     ]
    }
   ],
   "source": [
    "linear_percentage = calculate_accuracy(linear_acc_list[:300], THRESHOLD)\n",
    "multi_percentage = calculate_accuracy(multi_acc_list[:300], THRESHOLD)\n",
    "tree_percentage = calculate_accuracy(tree_acc_list[:300], THRESHOLD)\n",
    "forest_percentage = calculate_accuracy(forest_acc_list[:300], THRESHOLD)\n",
    "\n",
    "print(\"Out of \" + str(len(linear_acc_list[:300])) + \" predictions, accuracy for Linear was : \" + str(linear_percentage))\n",
    "print(\"Out of \" + str(len(multi_acc_list[:300])) + \" predictions, accuracy for Multi was : \" + str(multi_percentage))\n",
    "print(\"Out of \" + str(len(tree_acc_list[:300])) + \" predictions, accuracy for Tree was : \" + str(tree_percentage))\n",
    "print(\"Out of \" + str(len(forest_acc_list[:300])) + \" predictions, accuracy for Forest was : \" + str(forest_percentage))"
   ]
  },
  {
   "cell_type": "markdown",
   "metadata": {},
   "source": [
    "<h2>First 400</h2>"
   ]
  },
  {
   "cell_type": "markdown",
   "metadata": {},
   "source": [
    "<h3>Average Accuracy</h3>"
   ]
  },
  {
   "cell_type": "code",
   "execution_count": 88,
   "metadata": {},
   "outputs": [
    {
     "name": "stdout",
     "output_type": "stream",
     "text": [
      "Out of 844 predictions, accuracy was : 77.75\n"
     ]
    }
   ],
   "source": [
    "percentage = calculate_accuracy(average_list_2_minutes[:400], THRESHOLD)\n",
    "print(\"Out of \" + str(len(average_list_2_minutes)) + \" predictions, accuracy was : \" + str(percentage))"
   ]
  },
  {
   "cell_type": "markdown",
   "metadata": {},
   "source": [
    "<h3>Algorithm Accuracy</h3>"
   ]
  },
  {
   "cell_type": "code",
   "execution_count": 89,
   "metadata": {},
   "outputs": [
    {
     "name": "stdout",
     "output_type": "stream",
     "text": [
      "Out of 400 predictions, accuracy for Linear was : 76.25\n",
      "Out of 400 predictions, accuracy for Multi was : 75.0\n",
      "Out of 400 predictions, accuracy for Tree was : 78.0\n",
      "Out of 400 predictions, accuracy for Forest was : 75.75\n"
     ]
    }
   ],
   "source": [
    "linear_percentage = calculate_accuracy(linear_acc_list[:400], THRESHOLD)\n",
    "multi_percentage = calculate_accuracy(multi_acc_list[:400], THRESHOLD)\n",
    "tree_percentage = calculate_accuracy(tree_acc_list[:400], THRESHOLD)\n",
    "forest_percentage = calculate_accuracy(forest_acc_list[:400], THRESHOLD)\n",
    "\n",
    "print(\"Out of \" + str(len(linear_acc_list[:400])) + \" predictions, accuracy for Linear was : \" + str(linear_percentage))\n",
    "print(\"Out of \" + str(len(multi_acc_list[:400])) + \" predictions, accuracy for Multi was : \" + str(multi_percentage))\n",
    "print(\"Out of \" + str(len(tree_acc_list[:400])) + \" predictions, accuracy for Tree was : \" + str(tree_percentage))\n",
    "print(\"Out of \" + str(len(forest_acc_list[:400])) + \" predictions, accuracy for Forest was : \" + str(forest_percentage))"
   ]
  },
  {
   "cell_type": "markdown",
   "metadata": {},
   "source": [
    "<h2>Chart</h2>"
   ]
  },
  {
   "cell_type": "code",
   "execution_count": 90,
   "metadata": {},
   "outputs": [
    {
     "data": {
      "text/html": [
       "<iframe id=\"igraph\" scrolling=\"no\" style=\"border:none;\" seamless=\"seamless\" src=\"https://plot.ly/~HaveAnAverageDay/190.embed\" height=\"525px\" width=\"100%\"></iframe>"
      ],
      "text/plain": [
       "<plotly.tools.PlotlyDisplay object>"
      ]
     },
     "execution_count": 90,
     "metadata": {},
     "output_type": "execute_result"
    }
   ],
   "source": [
    "data = [go.Bar(\n",
    "            x=['100P', '200P', '300P', '400P', 'Overall (' + str(len(average_list_2_minutes)) + 'P)'],\n",
    "            y=[calculate_accuracy(average_list_2_minutes[:100], THRESHOLD),\n",
    "               calculate_accuracy(average_list_2_minutes[:200], THRESHOLD),\n",
    "               calculate_accuracy(average_list_2_minutes[:300], THRESHOLD),\n",
    "               calculate_accuracy(average_list_2_minutes[:400], THRESHOLD),\n",
    "               calculate_accuracy(average_list_2_minutes, THRESHOLD)]\n",
    "    )]\n",
    "layout = go.Layout(\n",
    "    title='2 Minute Predictions',\n",
    "    xaxis=dict(\n",
    "        title=\"Number of Prediction Cycles\",\n",
    "        tickfont=dict(\n",
    "            size=14,\n",
    "            color='rgb(107, 107, 107)'\n",
    "        )\n",
    "    ),\n",
    "    yaxis=dict(\n",
    "        title='Accurracy',\n",
    "        titlefont=dict(\n",
    "            size=16,\n",
    "            color='rgb(107, 107, 107)'\n",
    "        ),\n",
    "        tickfont=dict(\n",
    "            size=14,\n",
    "            color='rgb(107, 107, 107)'\n",
    "        )\n",
    "    ),\n",
    ")\n",
    "fig = go.Figure(data=data, layout=layout)\n",
    "py.iplot(fig)"
   ]
  }
 ],
 "metadata": {
  "kernelspec": {
   "display_name": "Python 3",
   "language": "python",
   "name": "python3"
  },
  "language_info": {
   "codemirror_mode": {
    "name": "ipython",
    "version": 3
   },
   "file_extension": ".py",
   "mimetype": "text/x-python",
   "name": "python",
   "nbconvert_exporter": "python",
   "pygments_lexer": "ipython3",
   "version": "3.6.3"
  }
 },
 "nbformat": 4,
 "nbformat_minor": 2
}
