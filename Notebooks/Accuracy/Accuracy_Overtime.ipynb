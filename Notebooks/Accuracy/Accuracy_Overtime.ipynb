{
 "cells": [
  {
   "cell_type": "code",
   "execution_count": 37,
   "metadata": {
    "collapsed": true
   },
   "outputs": [],
   "source": [
    "import pandas as pd\n",
    "import plotly.plotly as py\n",
    "import plotly.graph_objs as go\n",
    "%matplotlib inline "
   ]
  },
  {
   "cell_type": "code",
   "execution_count": 38,
   "metadata": {
    "collapsed": true
   },
   "outputs": [],
   "source": [
    "def calculate_accuracy(average_list, threshold):\n",
    "    numbers_correct = 0\n",
    "    for accuracy in average_list:\n",
    "        if accuracy <= threshold:\n",
    "            numbers_correct += 1\n",
    "    return (100 * float(numbers_correct)/float(len(average_list)))"
   ]
  },
  {
   "cell_type": "code",
   "execution_count": 39,
   "metadata": {
    "collapsed": true
   },
   "outputs": [],
   "source": [
    "def generate_average_list(data_frame):\n",
    "    average_list = []\n",
    "    for index, row in data_frame.iterrows():\n",
    "        if row[\"Actual Price\"] > row[\"Average Prediction\"]:\n",
    "            average_list.append((abs(row[\"Actual Price\"] - row[\"Average Prediction\"]) / row[\"Actual Price\"]) * 100)\n",
    "        elif row[\"Actual Price\"] < row[\"Average Prediction\"]:\n",
    "            average_list.append((abs(row[\"Actual Price\"] - row[\"Average Prediction\"]) / row[\"Average Prediction\"]) * 100)\n",
    "        else:\n",
    "            average_list.append(0)\n",
    "    return average_list"
   ]
  },
  {
   "cell_type": "code",
   "execution_count": 40,
   "metadata": {
    "collapsed": true
   },
   "outputs": [],
   "source": [
    "def most_accurate_algorithm(data_frame):\n",
    "    average_list_linear = []\n",
    "    average_list_multi = []\n",
    "    average_list_tree = []\n",
    "    average_list_forest = []\n",
    "    for index, row in data_frame.iterrows():\n",
    "        list_of_alg = ['Linear Prediction', \"Multi Linear Prediction\", \"Tree Prediction\",  \"Forest Prediction\"]          \n",
    "        #Linear\n",
    "        if row[\"Actual Price\"] > row[\"Linear Prediction\"]:\n",
    "            average_list_linear.append((abs(row[\"Actual Price\"] - row[\"Linear Prediction\"]) / row[\"Actual Price\"]) * 100)\n",
    "        elif row[\"Actual Price\"] < row[\"Average Prediction\"]:\n",
    "            average_list_linear.append((abs(row[\"Actual Price\"] - row[\"Linear Prediction\"]) / row[\"Linear Prediction\"]) * 100)\n",
    "        else:\n",
    "            average_list_linear.append(0)\n",
    "        #Multi\n",
    "        if row[\"Actual Price\"] > row[\"Multi Linear Prediction\"]:\n",
    "            average_list_multi.append((abs(row[\"Actual Price\"] - row[\"Multi Linear Prediction\"]) / row[\"Actual Price\"]) * 100)\n",
    "        elif row[\"Actual Price\"] < row[\"Average Prediction\"]:\n",
    "            average_list_multi.append((abs(row[\"Actual Price\"] - row[\"Multi Linear Prediction\"]) / row[\"Multi Linear Prediction\"]) * 100)\n",
    "        else:\n",
    "            average_list_multi.append(0)\n",
    "        #Tree\n",
    "        if row[\"Actual Price\"] > row[\"Tree Prediction\"]:\n",
    "            average_list_tree.append((abs(row[\"Actual Price\"] - row[\"Tree Prediction\"]) / row[\"Actual Price\"]) * 100)\n",
    "        elif row[\"Actual Price\"] < row[\"Average Prediction\"]:\n",
    "            average_list_tree.append((abs(row[\"Actual Price\"] - row[\"Tree Prediction\"]) / row[\"Tree Prediction\"]) * 100)\n",
    "        else:\n",
    "            average_list_tree.append(0)\n",
    "        #Forest\n",
    "        if row[\"Actual Price\"] > row[\"Forest Prediction\"]:\n",
    "            average_list_forest.append((abs(row[\"Actual Price\"] - row[\"Forest Prediction\"]) / row[\"Actual Price\"]) * 100)\n",
    "        elif row[\"Actual Price\"] < row[\"Average Prediction\"]:\n",
    "            average_list_forest.append((abs(row[\"Actual Price\"] - row[\"Forest Prediction\"]) / row[\"Forest Prediction\"]) * 100)\n",
    "        else:\n",
    "            average_list_forest.append(0)\n",
    "    return average_list_linear, average_list_multi, average_list_tree, average_list_forest"
   ]
  },
  {
   "cell_type": "code",
   "execution_count": 41,
   "metadata": {},
   "outputs": [
    {
     "data": {
      "text/plain": [
       "35.046728971962615"
      ]
     },
     "execution_count": 41,
     "metadata": {},
     "output_type": "execute_result"
    }
   ],
   "source": [
    "#Considered Accurate\n",
    "THRESHOLD = .1\n",
    "calculate_accuracy(average_list_10_minutes, THRESHOLD)"
   ]
  },
  {
   "cell_type": "code",
   "execution_count": 42,
   "metadata": {},
   "outputs": [],
   "source": [
    "btc_df_2 = pd.read_csv('C:/Users/Thomas/Desktop/Bitcoin_Data/2_Minutes_BTC/btcPastPredictions.csv')\n",
    "btc_df_5 = pd.read_csv('C:/Users/Thomas/Desktop/Bitcoin_Data/5_Minutes_BTC/btcPastPredictions.csv')\n",
    "btc_df_10 = pd.read_csv('C:/Users/Thomas/Desktop/Bitcoin_Data/10_Minutes_BTC/btcPastPredictions.csv')\n",
    "btc_df_15 = pd.read_csv('C:/Users/Thomas/Desktop/Bitcoin_Data/15_Minutes_BTC/btcPastPredictions.csv')\n",
    "\n",
    "average_list_2_minutes = generate_average_list(btc_df_2)\n",
    "average_list_5_minutes = generate_average_list(btc_df_5)\n",
    "average_list_10_minutes = generate_average_list(btc_df_10)\n",
    "average_list_15_minutes = generate_average_list(btc_df_15)"
   ]
  },
  {
   "cell_type": "code",
   "execution_count": 43,
   "metadata": {},
   "outputs": [
    {
     "data": {
      "text/html": [
       "<iframe id=\"igraph\" scrolling=\"no\" style=\"border:none;\" seamless=\"seamless\" src=\"https://plot.ly/~HaveAnAverageDay/202.embed\" height=\"525px\" width=\"100%\"></iframe>"
      ],
      "text/plain": [
       "<plotly.tools.PlotlyDisplay object>"
      ]
     },
     "execution_count": 43,
     "metadata": {},
     "output_type": "execute_result"
    }
   ],
   "source": [
    "data = [go.Bar(\n",
    "            x=['2 Min', '5 Min', '10 Min', '15 Min'],\n",
    "            y=[calculate_accuracy(average_list_2_minutes, THRESHOLD),\n",
    "               calculate_accuracy(average_list_5_minutes, THRESHOLD),\n",
    "               calculate_accuracy(average_list_10_minutes, THRESHOLD),\n",
    "               calculate_accuracy(average_list_15_minutes, THRESHOLD)\n",
    "               ]\n",
    "    )]\n",
    "layout = go.Layout(\n",
    "    title='Overall Minute Predictions',\n",
    "    xaxis=dict(\n",
    "        title=\"Overtime\",\n",
    "        tickfont=dict(\n",
    "            size=14,\n",
    "            color='rgb(107, 107, 107)'\n",
    "        )\n",
    "    ),\n",
    "    yaxis=dict(\n",
    "        title='Accurracy',\n",
    "        titlefont=dict(\n",
    "            size=16,\n",
    "            color='rgb(107, 107, 107)'\n",
    "        ),\n",
    "        tickfont=dict(\n",
    "            size=14,\n",
    "            color='rgb(107, 107, 107)'\n",
    "        )\n",
    "    ),\n",
    ")\n",
    "fig = go.Figure(data=data, layout=layout)\n",
    "py.iplot(fig)"
   ]
  }
 ],
 "metadata": {
  "kernelspec": {
   "display_name": "Python 3",
   "language": "python",
   "name": "python3"
  },
  "language_info": {
   "codemirror_mode": {
    "name": "ipython",
    "version": 3
   },
   "file_extension": ".py",
   "mimetype": "text/x-python",
   "name": "python",
   "nbconvert_exporter": "python",
   "pygments_lexer": "ipython3",
   "version": "3.6.3"
  }
 },
 "nbformat": 4,
 "nbformat_minor": 2
}
