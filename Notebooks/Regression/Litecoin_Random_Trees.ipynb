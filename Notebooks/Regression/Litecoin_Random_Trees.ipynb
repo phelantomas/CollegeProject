{
 "cells": [
  {
   "cell_type": "code",
   "execution_count": 1,
   "metadata": {
    "collapsed": true
   },
   "outputs": [],
   "source": [
    "import pandas as pd\n",
    "import numpy as np\n",
    "from sklearn.model_selection import train_test_split\n",
    "from sklearn.metrics import mean_squared_error, r2_score\n",
    "from sklearn import preprocessing\n",
    "from sklearn import utils\n",
    "from sklearn.metrics import mean_squared_error, r2_score\n",
    "from sklearn.ensemble import RandomForestClassifier\n",
    "from sklearn.ensemble import RandomForestRegressor\n",
    "from sklearn.datasets import make_classification\n",
    "import matplotlib.pyplot as plt\n",
    "from sklearn import tree\n",
    "from sklearn.model_selection import cross_val_score\n",
    "import os     \n",
    "os.environ[\"PATH\"] += os.pathsep + 'C:/Users/Thomas/Anaconda3/Library/bin/graphviz'"
   ]
  },
  {
   "cell_type": "code",
   "execution_count": 2,
   "metadata": {
    "collapsed": true
   },
   "outputs": [],
   "source": [
    "df_1 = pd.read_csv('C:/Users/Thomas/Desktop/Bitcoin_Data/Version_1/ltcFeature.csv')\n",
    "df_2 = pd.read_csv('C:/Users/Thomas/Desktop/Bitcoin_Data/Version_2/ltcFeature.csv')\n",
    "df_3 = pd.read_csv('C:/Users/Thomas/Desktop/Bitcoin_Data/Version_3/ltcFeature.csv')\n",
    "df_4 = pd.read_csv('C:/Users/Thomas/Desktop/Bitcoin_Data/Version_4/ltcFeature.csv')"
   ]
  },
  {
   "cell_type": "code",
   "execution_count": 3,
   "metadata": {},
   "outputs": [
    {
     "data": {
      "text/html": [
       "<div>\n",
       "<style>\n",
       "    .dataframe thead tr:only-child th {\n",
       "        text-align: right;\n",
       "    }\n",
       "\n",
       "    .dataframe thead th {\n",
       "        text-align: left;\n",
       "    }\n",
       "\n",
       "    .dataframe tbody tr th {\n",
       "        vertical-align: top;\n",
       "    }\n",
       "</style>\n",
       "<table border=\"1\" class=\"dataframe\">\n",
       "  <thead>\n",
       "    <tr style=\"text-align: right;\">\n",
       "      <th></th>\n",
       "      <th>Unnamed: 0</th>\n",
       "      <th>Change</th>\n",
       "      <th>NoOfTweets</th>\n",
       "      <th>Price</th>\n",
       "      <th>Sentiment</th>\n",
       "      <th>TimeStamp</th>\n",
       "      <th>Volume</th>\n",
       "    </tr>\n",
       "  </thead>\n",
       "  <tbody>\n",
       "    <tr>\n",
       "      <th>0</th>\n",
       "      <td>0</td>\n",
       "      <td>-0.232731</td>\n",
       "      <td>593</td>\n",
       "      <td>174.303061</td>\n",
       "      <td>0.155611</td>\n",
       "      <td>1517006461</td>\n",
       "      <td>205541.904033</td>\n",
       "    </tr>\n",
       "    <tr>\n",
       "      <th>1</th>\n",
       "      <td>0</td>\n",
       "      <td>1.448909</td>\n",
       "      <td>454</td>\n",
       "      <td>176.100646</td>\n",
       "      <td>0.281581</td>\n",
       "      <td>1517010061</td>\n",
       "      <td>204797.709286</td>\n",
       "    </tr>\n",
       "    <tr>\n",
       "      <th>2</th>\n",
       "      <td>0</td>\n",
       "      <td>0.539218</td>\n",
       "      <td>372</td>\n",
       "      <td>177.181654</td>\n",
       "      <td>0.218300</td>\n",
       "      <td>1517013662</td>\n",
       "      <td>207919.066042</td>\n",
       "    </tr>\n",
       "    <tr>\n",
       "      <th>3</th>\n",
       "      <td>0</td>\n",
       "      <td>0.116144</td>\n",
       "      <td>342</td>\n",
       "      <td>175.854889</td>\n",
       "      <td>0.243829</td>\n",
       "      <td>1517017261</td>\n",
       "      <td>208137.309780</td>\n",
       "    </tr>\n",
       "    <tr>\n",
       "      <th>4</th>\n",
       "      <td>0</td>\n",
       "      <td>2.127979</td>\n",
       "      <td>328</td>\n",
       "      <td>176.710563</td>\n",
       "      <td>0.224281</td>\n",
       "      <td>1517020862</td>\n",
       "      <td>205240.060466</td>\n",
       "    </tr>\n",
       "  </tbody>\n",
       "</table>\n",
       "</div>"
      ],
      "text/plain": [
       "   Unnamed: 0    Change  NoOfTweets       Price  Sentiment   TimeStamp  \\\n",
       "0           0 -0.232731         593  174.303061   0.155611  1517006461   \n",
       "1           0  1.448909         454  176.100646   0.281581  1517010061   \n",
       "2           0  0.539218         372  177.181654   0.218300  1517013662   \n",
       "3           0  0.116144         342  175.854889   0.243829  1517017261   \n",
       "4           0  2.127979         328  176.710563   0.224281  1517020862   \n",
       "\n",
       "          Volume  \n",
       "0  205541.904033  \n",
       "1  204797.709286  \n",
       "2  207919.066042  \n",
       "3  208137.309780  \n",
       "4  205240.060466  "
      ]
     },
     "execution_count": 3,
     "metadata": {},
     "output_type": "execute_result"
    }
   ],
   "source": [
    "df_1.head(5)"
   ]
  },
  {
   "cell_type": "code",
   "execution_count": 4,
   "metadata": {},
   "outputs": [
    {
     "name": "stderr",
     "output_type": "stream",
     "text": [
      "C:\\Users\\Thomas\\Anaconda3\\lib\\site-packages\\ipykernel_launcher.py:13: DataConversionWarning: A column-vector y was passed when a 1d array was expected. Please change the shape of y to (n_samples,), for example using ravel().\n",
      "  del sys.path[0]\n"
     ]
    },
    {
     "data": {
      "text/plain": [
       "RandomForestRegressor(bootstrap=True, criterion='mse', max_depth=None,\n",
       "           max_features='auto', max_leaf_nodes=None,\n",
       "           min_impurity_decrease=0.0, min_impurity_split=None,\n",
       "           min_samples_leaf=1, min_samples_split=2,\n",
       "           min_weight_fraction_leaf=0.0, n_estimators=10, n_jobs=1,\n",
       "           oob_score=False, random_state=None, verbose=0, warm_start=False)"
      ]
     },
     "execution_count": 4,
     "metadata": {},
     "output_type": "execute_result"
    }
   ],
   "source": [
    "dt = tree.DecisionTreeRegressor()\n",
    "rf = RandomForestRegressor()\n",
    "\n",
    "X = df_1['Sentiment']\n",
    "Y = df_1['Change']\n",
    "\n",
    "X = X.values.reshape(len(X), 1)\n",
    "Y = Y.values.reshape(len(Y), 1)\n",
    "\n",
    "X_train, X_test, Y_train, Y_test = train_test_split(X, Y, test_size=0.33, random_state=5)\n",
    "\n",
    "dt.fit(X_train, Y_train)\n",
    "rf.fit(X_train, Y_train)"
   ]
  },
  {
   "cell_type": "code",
   "execution_count": 5,
   "metadata": {},
   "outputs": [
    {
     "name": "stdout",
     "output_type": "stream",
     "text": [
      "[-0.21367985 -0.38942087 -0.60656554]\n",
      "-0.692393375861\n",
      "-0.380360634237\n"
     ]
    }
   ],
   "source": [
    "score = cross_val_score(dt, X_test, Y_test)\n",
    "dt_score = dt.score(X_test, Y_test)\n",
    "rf_score = rf.score(X_test, Y_test)\n",
    "\n",
    "print(score)\n",
    "print(dt_score)\n",
    "print(rf_score)"
   ]
  },
  {
   "cell_type": "code",
   "execution_count": 6,
   "metadata": {},
   "outputs": [
    {
     "name": "stderr",
     "output_type": "stream",
     "text": [
      "C:\\Users\\Thomas\\Anaconda3\\lib\\site-packages\\ipykernel_launcher.py:13: DataConversionWarning: A column-vector y was passed when a 1d array was expected. Please change the shape of y to (n_samples,), for example using ravel().\n",
      "  del sys.path[0]\n"
     ]
    },
    {
     "data": {
      "text/plain": [
       "RandomForestRegressor(bootstrap=True, criterion='mse', max_depth=None,\n",
       "           max_features='auto', max_leaf_nodes=None,\n",
       "           min_impurity_decrease=0.0, min_impurity_split=None,\n",
       "           min_samples_leaf=1, min_samples_split=2,\n",
       "           min_weight_fraction_leaf=0.0, n_estimators=10, n_jobs=1,\n",
       "           oob_score=False, random_state=None, verbose=0, warm_start=False)"
      ]
     },
     "execution_count": 6,
     "metadata": {},
     "output_type": "execute_result"
    }
   ],
   "source": [
    "dt = tree.DecisionTreeRegressor()\n",
    "rf = RandomForestRegressor()\n",
    "\n",
    "X = df_2['Sentiment']\n",
    "Y = df_2['Change']\n",
    "\n",
    "X = X.values.reshape(len(X), 1)\n",
    "Y = Y.values.reshape(len(Y), 1)\n",
    "\n",
    "X_train, X_test, Y_train, Y_test = train_test_split(X, Y, test_size=0.33, random_state=5)\n",
    "\n",
    "dt.fit(X_train, Y_train)\n",
    "rf.fit(X_train, Y_train)"
   ]
  },
  {
   "cell_type": "code",
   "execution_count": 7,
   "metadata": {},
   "outputs": [
    {
     "name": "stdout",
     "output_type": "stream",
     "text": [
      "[-0.13478902 -2.9947047  -0.84926438]\n",
      "-2.16806125894\n",
      "-0.923183345339\n"
     ]
    }
   ],
   "source": [
    "score = cross_val_score(dt, X_test, Y_test)\n",
    "dt_score = dt.score(X_test, Y_test)\n",
    "rf_score = rf.score(X_test, Y_test)\n",
    "\n",
    "print(score)\n",
    "print(dt_score)\n",
    "print(rf_score)"
   ]
  },
  {
   "cell_type": "code",
   "execution_count": 8,
   "metadata": {},
   "outputs": [
    {
     "name": "stderr",
     "output_type": "stream",
     "text": [
      "C:\\Users\\Thomas\\Anaconda3\\lib\\site-packages\\ipykernel_launcher.py:13: DataConversionWarning: A column-vector y was passed when a 1d array was expected. Please change the shape of y to (n_samples,), for example using ravel().\n",
      "  del sys.path[0]\n"
     ]
    },
    {
     "data": {
      "text/plain": [
       "RandomForestRegressor(bootstrap=True, criterion='mse', max_depth=None,\n",
       "           max_features='auto', max_leaf_nodes=None,\n",
       "           min_impurity_decrease=0.0, min_impurity_split=None,\n",
       "           min_samples_leaf=1, min_samples_split=2,\n",
       "           min_weight_fraction_leaf=0.0, n_estimators=10, n_jobs=1,\n",
       "           oob_score=False, random_state=None, verbose=0, warm_start=False)"
      ]
     },
     "execution_count": 8,
     "metadata": {},
     "output_type": "execute_result"
    }
   ],
   "source": [
    "dt = tree.DecisionTreeRegressor()\n",
    "rf = RandomForestRegressor()\n",
    "\n",
    "X = df_3['Sentiment']\n",
    "Y = df_3['Change']\n",
    "\n",
    "X = X.values.reshape(len(X), 1)\n",
    "Y = Y.values.reshape(len(Y), 1)\n",
    "\n",
    "X_train, X_test, Y_train, Y_test = train_test_split(X, Y, test_size=0.33, random_state=5)\n",
    "\n",
    "dt.fit(X_train, Y_train)\n",
    "rf.fit(X_train, Y_train)"
   ]
  },
  {
   "cell_type": "code",
   "execution_count": 9,
   "metadata": {},
   "outputs": [
    {
     "name": "stdout",
     "output_type": "stream",
     "text": [
      "[-0.55090899 -1.78118744 -1.25089408]\n",
      "-0.995503214547\n",
      "-0.323351079033\n"
     ]
    }
   ],
   "source": [
    "score = cross_val_score(dt, X_test, Y_test)\n",
    "dt_score = dt.score(X_test, Y_test)\n",
    "rf_score = rf.score(X_test, Y_test)\n",
    "\n",
    "print(score)\n",
    "print(dt_score)\n",
    "print(rf_score)"
   ]
  },
  {
   "cell_type": "code",
   "execution_count": 10,
   "metadata": {},
   "outputs": [
    {
     "name": "stderr",
     "output_type": "stream",
     "text": [
      "C:\\Users\\Thomas\\Anaconda3\\lib\\site-packages\\ipykernel_launcher.py:13: DataConversionWarning: A column-vector y was passed when a 1d array was expected. Please change the shape of y to (n_samples,), for example using ravel().\n",
      "  del sys.path[0]\n"
     ]
    },
    {
     "data": {
      "text/plain": [
       "RandomForestRegressor(bootstrap=True, criterion='mse', max_depth=None,\n",
       "           max_features='auto', max_leaf_nodes=None,\n",
       "           min_impurity_decrease=0.0, min_impurity_split=None,\n",
       "           min_samples_leaf=1, min_samples_split=2,\n",
       "           min_weight_fraction_leaf=0.0, n_estimators=10, n_jobs=1,\n",
       "           oob_score=False, random_state=None, verbose=0, warm_start=False)"
      ]
     },
     "execution_count": 10,
     "metadata": {},
     "output_type": "execute_result"
    }
   ],
   "source": [
    "dt = tree.DecisionTreeRegressor()\n",
    "rf = RandomForestRegressor()\n",
    "\n",
    "X = df_4['Sentiment']\n",
    "Y = df_4['Change']\n",
    "\n",
    "X = X.values.reshape(len(X), 1)\n",
    "Y = Y.values.reshape(len(Y), 1)\n",
    "\n",
    "X_train, X_test, Y_train, Y_test = train_test_split(X, Y, test_size=0.33, random_state=5)\n",
    "\n",
    "dt.fit(X_train, Y_train)\n",
    "rf.fit(X_train, Y_train)"
   ]
  },
  {
   "cell_type": "code",
   "execution_count": 11,
   "metadata": {},
   "outputs": [
    {
     "name": "stdout",
     "output_type": "stream",
     "text": [
      "[-0.55090899 -1.78118744 -1.25089408]\n",
      "-0.995503214547\n",
      "-0.323351079033\n"
     ]
    }
   ],
   "source": [
    "print(score)\n",
    "print(dt_score)\n",
    "print(rf_score)"
   ]
  }
 ],
 "metadata": {
  "kernelspec": {
   "display_name": "Python 3",
   "language": "python",
   "name": "python3"
  },
  "language_info": {
   "codemirror_mode": {
    "name": "ipython",
    "version": 3
   },
   "file_extension": ".py",
   "mimetype": "text/x-python",
   "name": "python",
   "nbconvert_exporter": "python",
   "pygments_lexer": "ipython3",
   "version": "3.6.3"
  }
 },
 "nbformat": 4,
 "nbformat_minor": 2
}
