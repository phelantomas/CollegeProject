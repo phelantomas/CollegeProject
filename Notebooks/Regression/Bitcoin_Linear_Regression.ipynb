{
 "cells": [
  {
   "cell_type": "code",
   "execution_count": 119,
   "metadata": {
    "collapsed": true
   },
   "outputs": [],
   "source": [
    "import pandas as pd\n",
    "import numpy as np\n",
    "from sklearn import datasets, linear_model\n",
    "from sklearn.model_selection import train_test_split\n",
    "from sklearn.metrics import mean_squared_error, r2_score\n",
    "from sklearn import preprocessing\n",
    "from sklearn import utils\n",
    "from sklearn.metrics import mean_squared_error, r2_score\n",
    "from sklearn.linear_model import LinearRegression\n",
    "import matplotlib.pyplot as plt"
   ]
  },
  {
   "cell_type": "code",
   "execution_count": 120,
   "metadata": {
    "collapsed": true
   },
   "outputs": [],
   "source": [
    "btc_df_1 = pd.read_csv('C:/Users/Thomas/Desktop/Bitcoin_Data/Version_1/btcFeature.csv')\n",
    "btc_df_2 = pd.read_csv('C:/Users/Thomas/Desktop/Bitcoin_Data/Version_2/btcFeature.csv')\n",
    "btc_df_3 = pd.read_csv('C:/Users/Thomas/Desktop/Bitcoin_Data/Version_3/btcFeature.csv')\n",
    "btc_df_4 = pd.read_csv('C:/Users/Thomas/Desktop/Bitcoin_Data/Version_4/btcFeature.csv')"
   ]
  },
  {
   "cell_type": "code",
   "execution_count": 121,
   "metadata": {
    "collapsed": true
   },
   "outputs": [],
   "source": [
    "shift = -4\n",
    "random_state = 0\n",
    "btc_df_1.Change = btc_df_1.Change.shift(shift)\n",
    "btc_df_1 = btc_df_1.dropna()\n",
    "\n",
    "btc_df_2.Change = btc_df_2.Change.shift(shift)\n",
    "btc_df_2 = btc_df_2.dropna()\n",
    "\n",
    "btc_df_3.Change = btc_df_3.Change.shift(shift)\n",
    "btc_df_3 = btc_df_3.dropna()\n",
    "\n",
    "btc_df_4.Change = btc_df_4.Change.shift(shift)\n",
    "btc_df_4 = btc_df_4.dropna()"
   ]
  },
  {
   "cell_type": "code",
   "execution_count": 122,
   "metadata": {},
   "outputs": [
    {
     "data": {
      "text/plain": [
       "LinearRegression(copy_X=True, fit_intercept=True, n_jobs=1, normalize=False)"
      ]
     },
     "execution_count": 122,
     "metadata": {},
     "output_type": "execute_result"
    }
   ],
   "source": [
    "lm_1 = LinearRegression()\n",
    "#btc_df_1['Sentiment'] = (btc_df_1['Sentiment'] - btc_df_1['Sentiment'].mean()) / (btc_df_1['Sentiment'].max() - btc_df_1['Sentiment'].min())\n",
    "#btc_df_1['Change'] = (btc_df_1['Change'] - btc_df_1['Change'].mean()) / (btc_df_1['Change'].max() - btc_df_1['Change'].min())\n",
    "\n",
    "\n",
    "X_1 = btc_df_1['Sentiment']\n",
    "Y_1 = btc_df_1['Change']\n",
    "\n",
    "X_1 = X_1.values.reshape(len(X_1), 1)\n",
    "Y_1 = Y_1.values.reshape(len(Y_1), 1)\n",
    "\n",
    "X_train_1, X_test_1, Y_train_1, Y_test_1 = train_test_split(X_1, Y_1, test_size=0.33, random_state=random_state)\n",
    "\n",
    "lm_1.fit(X_train_1, Y_train_1)"
   ]
  },
  {
   "cell_type": "code",
   "execution_count": 123,
   "metadata": {},
   "outputs": [
    {
     "data": {
      "text/plain": [
       "LinearRegression(copy_X=True, fit_intercept=True, n_jobs=1, normalize=False)"
      ]
     },
     "execution_count": 123,
     "metadata": {},
     "output_type": "execute_result"
    }
   ],
   "source": [
    "lm_2 = LinearRegression()\n",
    "#df = pd.read_csv(file, error_bad_lines=False)\n",
    "X_2 = btc_df_2['Sentiment']\n",
    "Y_2 = btc_df_2['Change']\n",
    "\n",
    "X_2 = X_2.values.reshape(len(X_2), 1)\n",
    "Y_2 = Y_2.values.reshape(len(Y_2), 1)\n",
    "\n",
    "X_train_2, X_test_2, Y_train_2, Y_test_2 = train_test_split(X_2, Y_2, test_size=0.33, random_state=random_state)\n",
    "\n",
    "lm_2.fit(X_train_2, Y_train_2)"
   ]
  },
  {
   "cell_type": "code",
   "execution_count": 124,
   "metadata": {},
   "outputs": [
    {
     "data": {
      "text/plain": [
       "LinearRegression(copy_X=True, fit_intercept=True, n_jobs=1, normalize=False)"
      ]
     },
     "execution_count": 124,
     "metadata": {},
     "output_type": "execute_result"
    }
   ],
   "source": [
    "lm_3 = LinearRegression()\n",
    "#df = pd.read_csv(file, error_bad_lines=False)\n",
    "X_3 = btc_df_3['Sentiment']\n",
    "Y_3 = btc_df_3['Change']\n",
    "\n",
    "X_3 = X_3.values.reshape(len(X_3), 1)\n",
    "Y_3 = Y_3.values.reshape(len(Y_3), 1)\n",
    "\n",
    "X_train_3, X_test_3, Y_train_3, Y_test_3 = train_test_split(X_3, Y_3, test_size=0.33, random_state=random_state)\n",
    "\n",
    "lm_3.fit(X_train_3, Y_train_3)"
   ]
  },
  {
   "cell_type": "code",
   "execution_count": 125,
   "metadata": {},
   "outputs": [
    {
     "data": {
      "text/plain": [
       "LinearRegression(copy_X=True, fit_intercept=True, n_jobs=1, normalize=False)"
      ]
     },
     "execution_count": 125,
     "metadata": {},
     "output_type": "execute_result"
    }
   ],
   "source": [
    "lm_4 = LinearRegression()\n",
    "\n",
    "X_4 = btc_df_4['Sentiment']\n",
    "Y_4 = btc_df_4['Change']\n",
    "\n",
    "X_4 = X_4.values.reshape(len(X_4), 1)\n",
    "Y_4 = Y_4.values.reshape(len(Y_4), 1)\n",
    "\n",
    "X_train_4, X_test_4, Y_train_4, Y_test_4 = train_test_split(X_4, Y_4, test_size=0.33, random_state=random_state)\n",
    "\n",
    "lm_4.fit(X_train_4, Y_train_4)"
   ]
  },
  {
   "cell_type": "code",
   "execution_count": 126,
   "metadata": {},
   "outputs": [
    {
     "data": {
      "image/png": "[encoded data removed]",
      "text/plain": [
       "<matplotlib.figure.Figure at 0x1c3add69898>"
      ]
     },
     "metadata": {},
     "output_type": "display_data"
    }
   ],
   "source": [
    "Y_pred_1 = lm_1.predict(X_test_1)\n",
    "plt.scatter(X_test_1, Y_test_1,  color='black')\n",
    "plt.plot(X_test_1, Y_pred_1, color='blue', linewidth=3)\n",
    "plt.title('Bitcoin_1')\n",
    "plt.xlabel('Sentiment')\n",
    "plt.ylabel('Change')\n",
    "plt.show()"
   ]
  },
  {
   "cell_type": "code",
   "execution_count": 127,
   "metadata": {},
   "outputs": [
    {
     "name": "stdout",
     "output_type": "stream",
     "text": [
      "Coefficients: \n",
      " [[ 165.36362759]]\n",
      "Mean squared error: 4783.20\n",
      "Variance score: 0.00\n",
      "1.0\n"
     ]
    }
   ],
   "source": [
    "print('Coefficients: \\n', lm_1.coef_)\n",
    "# The mean squared error\n",
    "print(\"Mean squared error: %.2f\" % mean_squared_error(Y_test_1, Y_pred_1))\n",
    "      # Explained variance score: 1 is perfect prediction\n",
    "print('Variance score: %.2f' % r2_score(Y_test_1, Y_pred_1))\n",
    "\n",
    "error_1 = np.mean(Y_pred_1 != Y_test_1)\n",
    "print(error_1)"
   ]
  },
  {
   "cell_type": "code",
   "execution_count": 128,
   "metadata": {},
   "outputs": [
    {
     "data": {
      "image/png": "[encoded data removed]",
      "text/plain": [
       "<matplotlib.figure.Figure at 0x1c3adff2208>"
      ]
     },
     "metadata": {},
     "output_type": "display_data"
    }
   ],
   "source": [
    "Y_pred_2 = lm_2.predict(X_test_2)\n",
    "# Plot outputs\n",
    "plt.scatter(X_test_2, Y_test_2,  color='black')\n",
    "plt.plot(X_test_2, Y_pred_2, color='blue', linewidth=3)\n",
    "plt.title('Bitcoin_2')\n",
    "plt.xlabel('Sentiment')\n",
    "plt.ylabel('Change')\n",
    "plt.show()"
   ]
  },
  {
   "cell_type": "code",
   "execution_count": 129,
   "metadata": {},
   "outputs": [
    {
     "name": "stdout",
     "output_type": "stream",
     "text": [
      "Coefficients: \n",
      " [[ 176.54411452]]\n",
      "Mean squared error: 5694.76\n",
      "Variance score: -0.03\n",
      "1.0\n"
     ]
    }
   ],
   "source": [
    "print('Coefficients: \\n', lm_2.coef_)\n",
    "# The mean squared error\n",
    "print(\"Mean squared error: %.2f\" % mean_squared_error(Y_test_2, Y_pred_2))\n",
    "      # Explained variance score: 1 is perfect prediction\n",
    "print('Variance score: %.2f' % r2_score(Y_test_2, Y_pred_2))\n",
    "\n",
    "error_2 = np.mean(Y_pred_2 != Y_test_2)\n",
    "print(error_2)"
   ]
  },
  {
   "cell_type": "code",
   "execution_count": 130,
   "metadata": {},
   "outputs": [
    {
     "data": {
      "image/png": "[encoded data removed]",
      "text/plain": [
       "<matplotlib.figure.Figure at 0x1c3ad7c29b0>"
      ]
     },
     "metadata": {},
     "output_type": "display_data"
    }
   ],
   "source": [
    "Y_pred_3 = lm_3.predict(X_test_3)\n",
    "# Plot outputs\n",
    "plt.scatter(X_test_3, Y_test_3,  color='black')\n",
    "plt.plot(X_test_3, Y_pred_3, color='blue', linewidth=3)\n",
    "plt.title('Bitcoin_3')\n",
    "plt.xlabel('Sentiment')\n",
    "plt.ylabel('Change')\n",
    "plt.show()"
   ]
  },
  {
   "cell_type": "code",
   "execution_count": 131,
   "metadata": {},
   "outputs": [
    {
     "name": "stdout",
     "output_type": "stream",
     "text": [
      "Coefficients: \n",
      " [[ 163.33469817]]\n",
      "Mean squared error: 5069.48\n",
      "Variance score: -0.01\n",
      "1.0\n"
     ]
    }
   ],
   "source": [
    "print('Coefficients: \\n', lm_3.coef_)\n",
    "# The mean squared error\n",
    "print(\"Mean squared error: %.2f\" % mean_squared_error(Y_test_3, Y_pred_3))\n",
    "      # Explained variance score: 1 is perfect prediction\n",
    "print('Variance score: %.2f' % r2_score(Y_test_3, Y_pred_3))\n",
    "\n",
    "error_3 = np.mean(Y_pred_3 != Y_test_3)\n",
    "print(error_3)"
   ]
  },
  {
   "cell_type": "code",
   "execution_count": 132,
   "metadata": {},
   "outputs": [
    {
     "data": {
      "image/png": "[encoded data removed]",
      "text/plain": [
       "<matplotlib.figure.Figure at 0x1c3add01908>"
      ]
     },
     "metadata": {},
     "output_type": "display_data"
    }
   ],
   "source": [
    "Y_pred_4 = lm_4.predict(X_test_4)\n",
    "# Plot outputs\n",
    "plt.scatter(X_test_4, Y_test_4,  color='black')\n",
    "plt.plot(X_test_4, Y_pred_4, color='blue', linewidth=3)\n",
    "plt.title('Bitcoin_4')\n",
    "plt.xlabel('Sentiment')\n",
    "plt.ylabel('Change')\n",
    "plt.show()"
   ]
  },
  {
   "cell_type": "code",
   "execution_count": 133,
   "metadata": {},
   "outputs": [
    {
     "name": "stdout",
     "output_type": "stream",
     "text": [
      "Coefficients: \n",
      " [[ 157.22832902]]\n",
      "Mean squared error: 4772.38\n",
      "Variance score: -0.02\n",
      "1.0\n"
     ]
    }
   ],
   "source": [
    "print('Coefficients: \\n', lm_4.coef_)\n",
    "# The mean squared error\n",
    "print(\"Mean squared error: %.2f\" % mean_squared_error(Y_test_4, Y_pred_4))\n",
    "      # Explained variance score: 1 is perfect prediction\n",
    "print('Variance score: %.2f' % r2_score(Y_test_4, Y_pred_4))\n",
    "\n",
    "error_4 = np.mean(Y_pred_4 != Y_test_4)\n",
    "print(error_4)"
   ]
  }
 ],
 "metadata": {
  "kernelspec": {
   "display_name": "Python 3",
   "language": "python",
   "name": "python3"
  },
  "language_info": {
   "codemirror_mode": {
    "name": "ipython",
    "version": 3
   },
   "file_extension": ".py",
   "mimetype": "text/x-python",
   "name": "python",
   "nbconvert_exporter": "python",
   "pygments_lexer": "ipython3",
   "version": "3.6.3"
  }
 },
 "nbformat": 4,
 "nbformat_minor": 2
}
