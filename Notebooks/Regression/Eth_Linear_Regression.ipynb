{
 "cells": [
  {
   "cell_type": "code",
   "execution_count": 16,
   "metadata": {
    "collapsed": true
   },
   "outputs": [],
   "source": [
    "import pandas as pd\n",
    "import numpy as np\n",
    "from sklearn import datasets, linear_model\n",
    "from sklearn.model_selection import train_test_split\n",
    "from sklearn.metrics import mean_squared_error, r2_score\n",
    "from sklearn import preprocessing\n",
    "from sklearn import utils\n",
    "from sklearn.metrics import mean_squared_error, r2_score\n",
    "from sklearn.linear_model import LinearRegression\n",
    "import matplotlib.pyplot as plt"
   ]
  },
  {
   "cell_type": "code",
   "execution_count": 17,
   "metadata": {
    "collapsed": true
   },
   "outputs": [],
   "source": [
    "eth_df_1 = pd.read_csv('C:/Users/Thomas/Desktop/Bitcoin_Data/Version_1/ethFeature.csv')\n",
    "eth_df_2 = pd.read_csv('C:/Users/Thomas/Desktop/Bitcoin_Data/Version_2/ethFeature.csv')\n",
    "eth_df_3 = pd.read_csv('C:/Users/Thomas/Desktop/Bitcoin_Data/Version_3/ethFeature.csv')\n",
    "eth_df_4 = pd.read_csv('C:/Users/Thomas/Desktop/Bitcoin_Data/Version_4/ethFeature.csv')"
   ]
  },
  {
   "cell_type": "code",
   "execution_count": 18,
   "metadata": {
    "collapsed": true
   },
   "outputs": [],
   "source": [
    "eth_df_1.Change = eth_df_1.Change.shift(-3)\n",
    "eth_df_1 = eth_df_1.dropna()\n",
    "\n",
    "eth_df_2.Change = eth_df_2.Change.shift(-3)\n",
    "eth_df_2 = eth_df_2.dropna()\n",
    "\n",
    "eth_df_3.Change = eth_df_3.Change.shift(-3)\n",
    "eth_df_3 = eth_df_3.dropna()\n",
    "\n",
    "eth_df_4.Change = eth_df_4.Change.shift(-3)\n",
    "eth_df_4 = eth_df_4.dropna()"
   ]
  },
  {
   "cell_type": "code",
   "execution_count": 19,
   "metadata": {},
   "outputs": [
    {
     "data": {
      "text/plain": [
       "LinearRegression(copy_X=True, fit_intercept=True, n_jobs=1, normalize=False)"
      ]
     },
     "execution_count": 19,
     "metadata": {},
     "output_type": "execute_result"
    }
   ],
   "source": [
    "lm_1 = LinearRegression()\n",
    "\n",
    "X_1 = eth_df_1['Sentiment']\n",
    "Y_1 = eth_df_1['Change']\n",
    "\n",
    "X_1 = X_1.values.reshape(len(X_1), 1)\n",
    "Y_1 = Y_1.values.reshape(len(Y_1), 1)\n",
    "\n",
    "X_train_1, X_test_1, Y_train_1, Y_test_1 = train_test_split(X_1, Y_1, test_size=0.33, random_state=5)\n",
    "\n",
    "lm_1.fit(X_train_1, Y_train_1)"
   ]
  },
  {
   "cell_type": "code",
   "execution_count": 20,
   "metadata": {},
   "outputs": [
    {
     "data": {
      "text/plain": [
       "LinearRegression(copy_X=True, fit_intercept=True, n_jobs=1, normalize=False)"
      ]
     },
     "execution_count": 20,
     "metadata": {},
     "output_type": "execute_result"
    }
   ],
   "source": [
    "lm_2 = LinearRegression()\n",
    "#df = pd.read_csv(file, error_bad_lines=False)\n",
    "X_2 = eth_df_2['Sentiment']\n",
    "Y_2 = eth_df_2['Change']\n",
    "\n",
    "X_2 = X_2.values.reshape(len(X_2), 1)\n",
    "Y_2 = Y_2.values.reshape(len(Y_2), 1)\n",
    "\n",
    "X_train_2, X_test_2, Y_train_2, Y_test_2 = train_test_split(X_2, Y_2, test_size=0.33, random_state=5)\n",
    "\n",
    "lm_2.fit(X_train_2, Y_train_2)"
   ]
  },
  {
   "cell_type": "code",
   "execution_count": 21,
   "metadata": {},
   "outputs": [
    {
     "data": {
      "text/plain": [
       "LinearRegression(copy_X=True, fit_intercept=True, n_jobs=1, normalize=False)"
      ]
     },
     "execution_count": 21,
     "metadata": {},
     "output_type": "execute_result"
    }
   ],
   "source": [
    "lm_3 = LinearRegression()\n",
    "#df = pd.read_csv(file, error_bad_lines=False)\n",
    "X_3 = eth_df_3['Sentiment']\n",
    "Y_3 = eth_df_3['Change']\n",
    "\n",
    "X_3 = X_3.values.reshape(len(X_3), 1)\n",
    "Y_3 = Y_3.values.reshape(len(Y_3), 1)\n",
    "\n",
    "X_train_3, X_test_3, Y_train_3, Y_test_3 = train_test_split(X_3, Y_3, test_size=0.33, random_state=5)\n",
    "\n",
    "lm_3.fit(X_train_3, Y_train_3)"
   ]
  },
  {
   "cell_type": "code",
   "execution_count": 22,
   "metadata": {},
   "outputs": [
    {
     "data": {
      "text/plain": [
       "LinearRegression(copy_X=True, fit_intercept=True, n_jobs=1, normalize=False)"
      ]
     },
     "execution_count": 22,
     "metadata": {},
     "output_type": "execute_result"
    }
   ],
   "source": [
    "lm_4 = LinearRegression()\n",
    "\n",
    "X_4 = eth_df_4['Sentiment']\n",
    "Y_4 = eth_df_4['Change']\n",
    "\n",
    "X_4 = X_4.values.reshape(len(X_4), 1)\n",
    "Y_4 = Y_4.values.reshape(len(Y_4), 1)\n",
    "\n",
    "X_train_4, X_test_4, Y_train_4, Y_test_4 = train_test_split(X_4, Y_4, test_size=0.33, random_state=5)\n",
    "\n",
    "lm_4.fit(X_train_4, Y_train_4)"
   ]
  },
  {
   "cell_type": "code",
   "execution_count": 23,
   "metadata": {},
   "outputs": [
    {
     "data": {
      "image/png": "[encoded data removed]",
      "text/plain": [
       "<matplotlib.figure.Figure at 0x2476c9e50b8>"
      ]
     },
     "metadata": {},
     "output_type": "display_data"
    }
   ],
   "source": [
    "Y_pred_1 = lm_1.predict(X_test_1)\n",
    "# Plot outputs\n",
    "plt.scatter(X_test_1, Y_test_1,  color='black')\n",
    "plt.plot(X_test_1, Y_pred_1, color='blue', linewidth=3)\n",
    "plt.title('Etherium_1')\n",
    "plt.xlabel('Sentiment')\n",
    "plt.ylabel('Change')\n",
    "plt.show()"
   ]
  },
  {
   "cell_type": "code",
   "execution_count": 24,
   "metadata": {},
   "outputs": [
    {
     "name": "stdout",
     "output_type": "stream",
     "text": [
      "Coefficients: \n",
      " [[ 4.16486813]]\n",
      "Mean squared error: 69.66\n",
      "Variance score: 0.00\n",
      "1.0\n"
     ]
    }
   ],
   "source": [
    "print('Coefficients: \\n', lm_1.coef_)\n",
    "# The mean squared error\n",
    "print(\"Mean squared error: %.2f\" % mean_squared_error(Y_test_1, Y_pred_1))\n",
    "      # Explained variance score: 1 is perfect prediction\n",
    "print('Variance score: %.2f' % r2_score(Y_test_1, Y_pred_1))\n",
    "\n",
    "error_1 = np.mean(Y_pred_1 != Y_test_1)\n",
    "print(error_1)"
   ]
  },
  {
   "cell_type": "code",
   "execution_count": 25,
   "metadata": {},
   "outputs": [
    {
     "data": {
      "image/png": "[encoded data removed]",
      "text/plain": [
       "<matplotlib.figure.Figure at 0x2476c79bf98>"
      ]
     },
     "metadata": {},
     "output_type": "display_data"
    }
   ],
   "source": [
    "Y_pred_2 = lm_2.predict(X_test_2)\n",
    "# Plot outputs\n",
    "plt.scatter(X_test_2, Y_test_2,  color='black')\n",
    "plt.plot(X_test_2, Y_pred_2, color='blue', linewidth=3)\n",
    "plt.title('Etherium_2')\n",
    "plt.xlabel('Sentiment')\n",
    "plt.ylabel('Change')\n",
    "plt.show()"
   ]
  },
  {
   "cell_type": "code",
   "execution_count": 26,
   "metadata": {},
   "outputs": [
    {
     "name": "stdout",
     "output_type": "stream",
     "text": [
      "Coefficients: \n",
      " [[ 2.78292092]]\n",
      "Mean squared error: 86.30\n",
      "Variance score: -0.00\n",
      "1.0\n"
     ]
    }
   ],
   "source": [
    "print('Coefficients: \\n', lm_2.coef_)\n",
    "# The mean squared error\n",
    "print(\"Mean squared error: %.2f\" % mean_squared_error(Y_test_2, Y_pred_2))\n",
    "      # Explained variance score: 1 is perfect prediction\n",
    "print('Variance score: %.2f' % r2_score(Y_test_2, Y_pred_2))\n",
    "\n",
    "error_2 = np.mean(Y_pred_2 != Y_test_2)\n",
    "print(error_2)"
   ]
  },
  {
   "cell_type": "code",
   "execution_count": 27,
   "metadata": {},
   "outputs": [
    {
     "data": {
      "image/png": "[encoded data removed]",
      "text/plain": [
       "<matplotlib.figure.Figure at 0x2476c9e1828>"
      ]
     },
     "metadata": {},
     "output_type": "display_data"
    }
   ],
   "source": [
    "Y_pred_3 = lm_3.predict(X_test_3)\n",
    "# Plot outputs\n",
    "plt.scatter(X_test_3, Y_test_3,  color='black')\n",
    "plt.plot(X_test_3, Y_pred_3, color='blue', linewidth=3)\n",
    "plt.title('Etherium_3')\n",
    "plt.xlabel('Sentiment')\n",
    "plt.ylabel('Change')\n",
    "plt.show()"
   ]
  },
  {
   "cell_type": "code",
   "execution_count": 28,
   "metadata": {},
   "outputs": [
    {
     "name": "stdout",
     "output_type": "stream",
     "text": [
      "Coefficients: \n",
      " [[ 3.48945471]]\n",
      "Mean squared error: 99.24\n",
      "Variance score: 0.00\n",
      "1.0\n"
     ]
    }
   ],
   "source": [
    "print('Coefficients: \\n', lm_3.coef_)\n",
    "# The mean squared error\n",
    "print(\"Mean squared error: %.2f\" % mean_squared_error(Y_test_3, Y_pred_3))\n",
    "      # Explained variance score: 1 is perfect prediction\n",
    "print('Variance score: %.2f' % r2_score(Y_test_3, Y_pred_3))\n",
    "\n",
    "error_3 = np.mean(Y_pred_3 != Y_test_3)\n",
    "print(error_3)"
   ]
  },
  {
   "cell_type": "code",
   "execution_count": 29,
   "metadata": {},
   "outputs": [
    {
     "data": {
      "image/png": "[encoded data removed]",
      "text/plain": [
       "<matplotlib.figure.Figure at 0x2476ca83e10>"
      ]
     },
     "metadata": {},
     "output_type": "display_data"
    }
   ],
   "source": [
    "Y_pred_4 = lm_4.predict(X_test_4)\n",
    "# Plot outputs\n",
    "plt.scatter(X_test_4, Y_test_4,  color='black')\n",
    "plt.plot(X_test_4, Y_pred_4, color='blue', linewidth=3)\n",
    "plt.title('Etherium_4')\n",
    "plt.xlabel('Sentiment')\n",
    "plt.ylabel('Change')\n",
    "plt.show()"
   ]
  },
  {
   "cell_type": "code",
   "execution_count": 30,
   "metadata": {},
   "outputs": [
    {
     "name": "stdout",
     "output_type": "stream",
     "text": [
      "Coefficients: \n",
      " [[ 0.66958218]]\n",
      "Mean squared error: 77.44\n",
      "Variance score: -0.00\n",
      "1.0\n"
     ]
    }
   ],
   "source": [
    "print('Coefficients: \\n', lm_4.coef_)\n",
    "# The mean squared error\n",
    "print(\"Mean squared error: %.2f\" % mean_squared_error(Y_test_4, Y_pred_4))\n",
    "      # Explained variance score: 1 is perfect prediction\n",
    "print('Variance score: %.2f' % r2_score(Y_test_4, Y_pred_4))\n",
    "\n",
    "error_4 = np.mean(Y_pred_4 != Y_test_4)\n",
    "print(error_4)"
   ]
  }
 ],
 "metadata": {
  "kernelspec": {
   "display_name": "Python 3",
   "language": "python",
   "name": "python3"
  },
  "language_info": {
   "codemirror_mode": {
    "name": "ipython",
    "version": 3
   },
   "file_extension": ".py",
   "mimetype": "text/x-python",
   "name": "python",
   "nbconvert_exporter": "python",
   "pygments_lexer": "ipython3",
   "version": "3.6.3"
  }
 },
 "nbformat": 4,
 "nbformat_minor": 2
}
