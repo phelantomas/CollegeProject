{
 "cells": [
  {
   "cell_type": "code",
   "execution_count": 1,
   "metadata": {
    "collapsed": true
   },
   "outputs": [],
   "source": [
    "import pandas as pd\n",
    "import numpy as np\n",
    "from sklearn import datasets, linear_model\n",
    "from sklearn.model_selection import train_test_split\n",
    "from sklearn.metrics import mean_squared_error, r2_score\n",
    "from sklearn import preprocessing\n",
    "from sklearn import utils\n",
    "from sklearn.metrics import mean_squared_error, r2_score\n",
    "from sklearn.linear_model import LinearRegression\n",
    "import matplotlib.pyplot as plt\n",
    "from sklearn.naive_bayes import GaussianNB"
   ]
  },
  {
   "cell_type": "code",
   "execution_count": 3,
   "metadata": {
    "collapsed": true
   },
   "outputs": [],
   "source": [
    "df_1 = pd.read_csv('C:/Users/Thomas/Desktop/Bitcoin_Data/Version_1/btcFeature.csv')\n",
    "df_2 = pd.read_csv('C:/Users/Thomas/Desktop/Bitcoin_Data/Version_2/btcFeature.csv')\n",
    "df_3 = pd.read_csv('C:/Users/Thomas/Desktop/Bitcoin_Data/Version_3/btcFeature.csv')\n",
    "df_4 = pd.read_csv('C:/Users/Thomas/Desktop/Bitcoin_Data/Version_4/btcFeature.csv')"
   ]
  },
  {
   "cell_type": "code",
   "execution_count": 19,
   "metadata": {},
   "outputs": [
    {
     "data": {
      "text/html": [
       "<div>\n",
       "<style>\n",
       "    .dataframe thead tr:only-child th {\n",
       "        text-align: right;\n",
       "    }\n",
       "\n",
       "    .dataframe thead th {\n",
       "        text-align: left;\n",
       "    }\n",
       "\n",
       "    .dataframe tbody tr th {\n",
       "        vertical-align: top;\n",
       "    }\n",
       "</style>\n",
       "<table border=\"1\" class=\"dataframe\">\n",
       "  <thead>\n",
       "    <tr style=\"text-align: right;\">\n",
       "      <th></th>\n",
       "      <th>Unnamed: 0</th>\n",
       "      <th>Change</th>\n",
       "      <th>NoOfTweets</th>\n",
       "      <th>Price</th>\n",
       "      <th>Sentiment</th>\n",
       "      <th>TimeStamp</th>\n",
       "      <th>Volume</th>\n",
       "    </tr>\n",
       "  </thead>\n",
       "  <tbody>\n",
       "    <tr>\n",
       "      <th>0</th>\n",
       "      <td>0</td>\n",
       "      <td>-16.361552</td>\n",
       "      <td>5467</td>\n",
       "      <td>10895.972636</td>\n",
       "      <td>0.129824</td>\n",
       "      <td>1517006461</td>\n",
       "      <td>101879.724252</td>\n",
       "    </tr>\n",
       "    <tr>\n",
       "      <th>1</th>\n",
       "      <td>0</td>\n",
       "      <td>160.020423</td>\n",
       "      <td>5126</td>\n",
       "      <td>11087.754289</td>\n",
       "      <td>0.164874</td>\n",
       "      <td>1517010061</td>\n",
       "      <td>102390.922041</td>\n",
       "    </tr>\n",
       "    <tr>\n",
       "      <th>2</th>\n",
       "      <td>0</td>\n",
       "      <td>15.984359</td>\n",
       "      <td>4988</td>\n",
       "      <td>11190.677842</td>\n",
       "      <td>0.179189</td>\n",
       "      <td>1517013662</td>\n",
       "      <td>103844.936107</td>\n",
       "    </tr>\n",
       "    <tr>\n",
       "      <th>3</th>\n",
       "      <td>0</td>\n",
       "      <td>17.695245</td>\n",
       "      <td>4938</td>\n",
       "      <td>11054.557901</td>\n",
       "      <td>0.164394</td>\n",
       "      <td>1517017261</td>\n",
       "      <td>102671.806232</td>\n",
       "    </tr>\n",
       "    <tr>\n",
       "      <th>4</th>\n",
       "      <td>0</td>\n",
       "      <td>238.671977</td>\n",
       "      <td>4657</td>\n",
       "      <td>11146.846681</td>\n",
       "      <td>0.147747</td>\n",
       "      <td>1517020862</td>\n",
       "      <td>100960.453183</td>\n",
       "    </tr>\n",
       "  </tbody>\n",
       "</table>\n",
       "</div>"
      ],
      "text/plain": [
       "   Unnamed: 0      Change  NoOfTweets         Price  Sentiment   TimeStamp  \\\n",
       "0           0  -16.361552        5467  10895.972636   0.129824  1517006461   \n",
       "1           0  160.020423        5126  11087.754289   0.164874  1517010061   \n",
       "2           0   15.984359        4988  11190.677842   0.179189  1517013662   \n",
       "3           0   17.695245        4938  11054.557901   0.164394  1517017261   \n",
       "4           0  238.671977        4657  11146.846681   0.147747  1517020862   \n",
       "\n",
       "          Volume  \n",
       "0  101879.724252  \n",
       "1  102390.922041  \n",
       "2  103844.936107  \n",
       "3  102671.806232  \n",
       "4  100960.453183  "
      ]
     },
     "execution_count": 19,
     "metadata": {},
     "output_type": "execute_result"
    }
   ],
   "source": [
    "df_1.head(5)"
   ]
  },
  {
   "cell_type": "code",
   "execution_count": 15,
   "metadata": {},
   "outputs": [
    {
     "ename": "ValueError",
     "evalue": "Unknown label type: (array([ -3.32659757e+02,  -2.81911298e+02,  -2.52230595e+02,\n        -2.34724396e+02,  -2.27553018e+02,  -2.17515927e+02,\n        -2.09674307e+02,  -2.08517942e+02,  -1.99322581e+02,\n        -1.91180750e+02,  -1.85341011e+02,  -1.85099888e+02,\n        -1.78536677e+02,  -1.71922330e+02,  -1.69426674e+02,\n        -1.66018508e+02,  -1.64096505e+02,  -1.53481970e+02,\n        -1.47878974e+02,  -1.47201094e+02,  -1.43005397e+02,\n        -1.40244564e+02,  -1.38350185e+02,  -1.37375293e+02,\n        -1.31735883e+02,  -1.29189173e+02,  -1.26418243e+02,\n        -1.22853853e+02,  -1.22398434e+02,  -1.12175757e+02,\n        -1.11540553e+02,  -1.10824428e+02,  -1.10731326e+02,\n        -1.10664552e+02,  -1.06716259e+02,  -1.04264490e+02,\n        -1.04160599e+02,  -1.03527110e+02,  -1.02568633e+02,\n        -1.00264129e+02,  -9.86476661e+01,  -9.83807090e+01,\n        -9.83670859e+01,  -9.49340423e+01,  -9.29895209e+01,\n        -9.26976011e+01,  -8.65559114e+01,  -8.48011547e+01,\n        -8.38007716e+01,  -8.18295863e+01,  -8.06116135e+01,\n        -8.03154408e+01,  -7.68195794e+01,  -7.36577012e+01,\n        -7.31841938e+01,  -7.23037752e+01,  -7.21346075e+01,\n        -7.20046182e+01,  -7.06655874e+01,  -6.88955227e+01,\n        -6.78515329e+01,  -6.53587057e+01,  -6.17285361e+01,\n        -6.10979124e+01,  -5.93919751e+01,  -5.74985640e+01,\n        -5.58995330e+01,  -5.58304399e+01,  -5.57447164e+01,\n        -5.54038608e+01,  -5.40765383e+01,  -5.26473381e+01,\n        -5.07388769e+01,  -5.06504452e+01,  -5.05329299e+01,\n        -4.99353895e+01,  -4.78527384e+01,  -4.77821660e+01,\n        -4.75686488e+01,  -4.66035590e+01,  -4.62585168e+01,\n        -4.60848655e+01,  -4.55021030e+01,  -4.33717607e+01,\n        -4.30664794e+01,  -4.29415859e+01,  -4.22857724e+01,\n        -4.15691577e+01,  -4.09709756e+01,  -3.90410088e+01,\n        -3.89781532e+01,  -3.84287857e+01,  -3.80087286e+01,\n        -3.52319138e+01,  -3.50309441e+01,  -3.47480915e+01,\n        -3.46401664e+01,  -3.46262291e+01,  -3.44652437e+01,\n        -3.33317931e+01,  -3.31666668e+01,  -3.27129398e+01,\n        -3.25010465e+01,  -3.24717879e+01,  -3.22375209e+01,\n        -3.22296656e+01,  -3.21490364e+01,  -3.17280343e+01,\n        -3.07840043e+01,  -3.04335265e+01,  -3.00774530e+01,\n        -2.99530542e+01,  -2.96752830e+01,  -2.94971407e+01,\n        -2.93662592e+01,  -2.93448407e+01,  -2.85933030e+01,\n        -2.83954885e+01,  -2.78295697e+01,  -2.75008546e+01,\n        -2.71146287e+01,  -2.70482573e+01,  -2.67706834e+01,\n        -2.66237075e+01,  -2.65118959e+01,  -2.57176660e+01,\n        -2.54730791e+01,  -2.52513216e+01,  -2.51646111e+01,\n        -2.45833819e+01,  -2.44184969e+01,  -2.41304581e+01,\n        -2.34006765e+01,  -2.22534227e+01,  -2.22311882e+01,\n        -2.22226535e+01,  -2.20085729e+01,  -2.17372520e+01,\n        -2.16727488e+01,  -2.13850396e+01,  -2.12952101e+01,\n        -2.06891782e+01,  -2.04440729e+01,  -2.03007906e+01,\n        -2.02969642e+01,  -2.01167937e+01,  -1.99472143e+01,\n        -1.95863685e+01,  -1.95048361e+01,  -1.94618676e+01,\n        -1.87937237e+01,  -1.78429461e+01,  -1.78147515e+01,\n        -1.77329976e+01,  -1.73855640e+01,  -1.67055575e+01,\n        -1.64397201e+01,  -1.63615521e+01,  -1.61373089e+01,\n        -1.59563597e+01,  -1.59441388e+01,  -1.59044962e+01,\n        -1.58355956e+01,  -1.57775944e+01,  -1.54587198e+01,\n        -1.49773838e+01,  -1.49307893e+01,  -1.39321457e+01,\n        -1.37032307e+01,  -1.36245202e+01,  -1.30838468e+01,\n        -1.26899864e+01,  -1.20186994e+01,  -1.14090660e+01,\n        -1.07938980e+01,  -1.07437856e+01,  -1.06990134e+01,\n        -1.06391623e+01,  -1.04880123e+01,  -1.04804094e+01,\n        -1.00746115e+01,  -9.34342618e+00,  -9.15572442e+00,\n        -8.84452709e+00,  -8.34344413e+00,  -7.85981369e+00,\n        -7.43016961e+00,  -7.27813580e+00,  -7.19742507e+00,\n        -6.84109968e+00,  -6.62860416e+00,  -6.30077949e+00,\n        -6.28627433e+00,  -6.27792983e+00,  -6.26156228e+00,\n        -6.11945554e+00,  -4.92956373e+00,  -4.82419444e+00,\n        -4.44906677e+00,  -4.39150688e+00,  -4.08995142e+00,\n        -3.05079210e+00,  -2.62537024e+00,  -1.82580144e+00,\n        -9.26986720e-01,  -7.21939810e-01,  -4.92644220e-01,\n        -3.15518710e-01,  -2.32369610e-01,  -8.45591400e-02,\n         1.79224320e-01,   4.22767580e-01,   1.67677533e+00,\n         1.84179133e+00,   2.21241527e+00,   2.50020367e+00,\n         2.69922144e+00,   2.89798351e+00,   3.06793785e+00,\n         3.18181958e+00,   3.29785443e+00,   4.14871878e+00,\n         4.29060785e+00,   4.29699704e+00,   4.88007690e+00,\n         5.34093901e+00,   5.42872682e+00,   5.45505621e+00,\n         5.50706793e+00,   5.75955545e+00,   6.14925047e+00,\n         6.60284707e+00,   7.02915297e+00,   7.47138158e+00,\n         8.70301646e+00,   9.85027933e+00,   1.02219036e+01,\n         1.02685068e+01,   1.03870527e+01,   1.04612676e+01,\n         1.07362375e+01,   1.10458984e+01,   1.14453124e+01,\n         1.16291402e+01,   1.22088305e+01,   1.24058422e+01,\n         1.31371094e+01,   1.37283464e+01,   1.39916390e+01,\n         1.40870909e+01,   1.43800584e+01,   1.45489499e+01,\n         1.47968547e+01,   1.49747315e+01,   1.52783678e+01,\n         1.58844986e+01,   1.59843590e+01,   1.60933883e+01,\n         1.74817819e+01,   1.75593047e+01,   1.78542824e+01,\n         1.78978814e+01,   1.80459435e+01,   1.81073795e+01,\n         1.87603310e+01,   1.88452807e+01,   1.90858829e+01,\n         1.91642572e+01,   1.92549993e+01,   1.95131397e+01,\n         2.00447957e+01,   2.02443162e+01,   2.09042865e+01,\n         2.09141774e+01,   2.14980944e+01,   2.16744964e+01,\n         2.18944855e+01,   2.20225887e+01,   2.21095732e+01,\n         2.23286343e+01,   2.24193468e+01,   2.27466450e+01,\n         2.33207945e+01,   2.35672487e+01,   2.40307737e+01,\n         2.42308907e+01,   2.57044233e+01,   2.57786996e+01,\n         2.69519154e+01,   2.71868462e+01,   2.72890179e+01,\n         2.74057661e+01,   2.79141084e+01,   2.83330763e+01,\n         2.86197494e+01,   2.94330601e+01,   3.06560179e+01,\n         3.12566581e+01,   3.14811408e+01,   3.16321958e+01,\n         3.18305275e+01,   3.19481520e+01,   3.24395252e+01,\n         3.28799629e+01,   3.35277878e+01,   3.37034792e+01,\n         3.37565971e+01,   3.37923269e+01,   3.43282927e+01,\n         3.50165489e+01,   3.59490341e+01,   3.60321284e+01,\n         3.65670082e+01,   3.66944755e+01,   3.76483264e+01,\n         3.78959573e+01,   3.89095782e+01,   3.91784016e+01,\n         3.98291302e+01,   4.00793698e+01,   4.07891335e+01,\n         4.12056702e+01,   4.23459461e+01,   4.25013138e+01,\n         4.30947729e+01,   4.32423997e+01,   4.37642328e+01,\n         4.43071957e+01,   4.55028656e+01,   4.58165368e+01,\n         4.62231101e+01,   4.62544296e+01,   4.69903069e+01,\n         4.81488331e+01,   4.83372881e+01,   4.85751482e+01,\n         4.87481186e+01,   4.93602307e+01,   4.94995372e+01,\n         4.95224180e+01,   4.99244316e+01,   5.04366528e+01,\n         5.04757626e+01,   5.06291825e+01,   5.08360558e+01,\n         5.15072498e+01,   5.28975385e+01,   5.30033656e+01,\n         5.36967298e+01,   5.37324059e+01,   5.39084081e+01,\n         5.58823713e+01,   5.59721276e+01,   5.90508781e+01,\n         5.93713202e+01,   5.96807532e+01,   6.05670638e+01,\n         6.30428509e+01,   6.39600960e+01,   6.40563677e+01,\n         6.41222355e+01,   6.58436589e+01,   6.60643487e+01,\n         6.70881823e+01,   6.75862728e+01,   6.78300247e+01,\n         6.82979634e+01,   6.97719575e+01,   7.22056827e+01,\n         7.28381385e+01,   7.31732779e+01,   7.43744952e+01,\n         7.58067883e+01,   7.71185938e+01,   7.76745683e+01,\n         8.56037264e+01,   8.63826983e+01,   8.71677332e+01,\n         8.77575165e+01,   9.07249979e+01,   9.09170138e+01,\n         9.43047963e+01,   9.47051769e+01,   9.85033145e+01,\n         9.87017909e+01,   1.00143518e+02,   1.04350417e+02,\n         1.05558113e+02,   1.07372937e+02,   1.08318621e+02,\n         1.13841797e+02,   1.13890246e+02,   1.14800524e+02,\n         1.22436973e+02,   1.22519291e+02,   1.25261389e+02,\n         1.28096323e+02,   1.28157416e+02,   1.31015339e+02,\n         1.31627670e+02,   1.47285976e+02,   1.48858247e+02,\n         1.50136739e+02,   1.54800180e+02,   1.60020423e+02,\n         1.91019791e+02,   1.94476171e+02,   2.05407005e+02,\n         2.15547856e+02,   2.30763032e+02,   2.38671977e+02,\n         2.43270761e+02,   2.43816932e+02,   2.54020261e+02,\n         3.41666169e+02,   3.41682782e+02,   3.73658158e+02]),)",
     "output_type": "error",
     "traceback": [
      "\u001b[1;31m---------------------------------------------------------------------------\u001b[0m",
      "\u001b[1;31mValueError\u001b[0m                                Traceback (most recent call last)",
      "\u001b[1;32m<ipython-input-15-a1d1ced49d76>\u001b[0m in \u001b[0;36m<module>\u001b[1;34m()\u001b[0m\n\u001b[0;32m     10\u001b[0m \u001b[0mX_train\u001b[0m\u001b[1;33m,\u001b[0m \u001b[0mX_test\u001b[0m\u001b[1;33m,\u001b[0m \u001b[0mY_train\u001b[0m\u001b[1;33m,\u001b[0m \u001b[0mY_test\u001b[0m \u001b[1;33m=\u001b[0m \u001b[0mtrain_test_split\u001b[0m\u001b[1;33m(\u001b[0m\u001b[0mX\u001b[0m\u001b[1;33m,\u001b[0m \u001b[0mY\u001b[0m\u001b[1;33m,\u001b[0m \u001b[0mtest_size\u001b[0m\u001b[1;33m=\u001b[0m\u001b[1;36m0.33\u001b[0m\u001b[1;33m,\u001b[0m \u001b[0mrandom_state\u001b[0m\u001b[1;33m=\u001b[0m\u001b[1;36m5\u001b[0m\u001b[1;33m)\u001b[0m\u001b[1;33m\u001b[0m\u001b[0m\n\u001b[0;32m     11\u001b[0m \u001b[1;33m\u001b[0m\u001b[0m\n\u001b[1;32m---> 12\u001b[1;33m \u001b[0mmodel\u001b[0m\u001b[1;33m.\u001b[0m\u001b[0mfit\u001b[0m\u001b[1;33m(\u001b[0m\u001b[0mX_train\u001b[0m\u001b[1;33m,\u001b[0m \u001b[0mY_train\u001b[0m\u001b[1;33m)\u001b[0m\u001b[1;33m\u001b[0m\u001b[0m\n\u001b[0m",
      "\u001b[1;32m~\\Anaconda3\\lib\\site-packages\\sklearn\\naive_bayes.py\u001b[0m in \u001b[0;36mfit\u001b[1;34m(self, X, y, sample_weight)\u001b[0m\n\u001b[0;32m    183\u001b[0m         \u001b[0mX\u001b[0m\u001b[1;33m,\u001b[0m \u001b[0my\u001b[0m \u001b[1;33m=\u001b[0m \u001b[0mcheck_X_y\u001b[0m\u001b[1;33m(\u001b[0m\u001b[0mX\u001b[0m\u001b[1;33m,\u001b[0m \u001b[0my\u001b[0m\u001b[1;33m)\u001b[0m\u001b[1;33m\u001b[0m\u001b[0m\n\u001b[0;32m    184\u001b[0m         return self._partial_fit(X, y, np.unique(y), _refit=True,\n\u001b[1;32m--> 185\u001b[1;33m                                  sample_weight=sample_weight)\n\u001b[0m\u001b[0;32m    186\u001b[0m \u001b[1;33m\u001b[0m\u001b[0m\n\u001b[0;32m    187\u001b[0m     \u001b[1;33m@\u001b[0m\u001b[0mstaticmethod\u001b[0m\u001b[1;33m\u001b[0m\u001b[0m\n",
      "\u001b[1;32m~\\Anaconda3\\lib\\site-packages\\sklearn\\naive_bayes.py\u001b[0m in \u001b[0;36m_partial_fit\u001b[1;34m(self, X, y, classes, _refit, sample_weight)\u001b[0m\n\u001b[0;32m    348\u001b[0m             \u001b[0mself\u001b[0m\u001b[1;33m.\u001b[0m\u001b[0mclasses_\u001b[0m \u001b[1;33m=\u001b[0m \u001b[1;32mNone\u001b[0m\u001b[1;33m\u001b[0m\u001b[0m\n\u001b[0;32m    349\u001b[0m \u001b[1;33m\u001b[0m\u001b[0m\n\u001b[1;32m--> 350\u001b[1;33m         \u001b[1;32mif\u001b[0m \u001b[0m_check_partial_fit_first_call\u001b[0m\u001b[1;33m(\u001b[0m\u001b[0mself\u001b[0m\u001b[1;33m,\u001b[0m \u001b[0mclasses\u001b[0m\u001b[1;33m)\u001b[0m\u001b[1;33m:\u001b[0m\u001b[1;33m\u001b[0m\u001b[0m\n\u001b[0m\u001b[0;32m    351\u001b[0m             \u001b[1;31m# This is the first call to partial_fit:\u001b[0m\u001b[1;33m\u001b[0m\u001b[1;33m\u001b[0m\u001b[0m\n\u001b[0;32m    352\u001b[0m             \u001b[1;31m# initialize various cumulative counters\u001b[0m\u001b[1;33m\u001b[0m\u001b[1;33m\u001b[0m\u001b[0m\n",
      "\u001b[1;32m~\\Anaconda3\\lib\\site-packages\\sklearn\\utils\\multiclass.py\u001b[0m in \u001b[0;36m_check_partial_fit_first_call\u001b[1;34m(clf, classes)\u001b[0m\n\u001b[0;32m    319\u001b[0m         \u001b[1;32melse\u001b[0m\u001b[1;33m:\u001b[0m\u001b[1;33m\u001b[0m\u001b[0m\n\u001b[0;32m    320\u001b[0m             \u001b[1;31m# This is the first call to partial_fit\u001b[0m\u001b[1;33m\u001b[0m\u001b[1;33m\u001b[0m\u001b[0m\n\u001b[1;32m--> 321\u001b[1;33m             \u001b[0mclf\u001b[0m\u001b[1;33m.\u001b[0m\u001b[0mclasses_\u001b[0m \u001b[1;33m=\u001b[0m \u001b[0munique_labels\u001b[0m\u001b[1;33m(\u001b[0m\u001b[0mclasses\u001b[0m\u001b[1;33m)\u001b[0m\u001b[1;33m\u001b[0m\u001b[0m\n\u001b[0m\u001b[0;32m    322\u001b[0m             \u001b[1;32mreturn\u001b[0m \u001b[1;32mTrue\u001b[0m\u001b[1;33m\u001b[0m\u001b[0m\n\u001b[0;32m    323\u001b[0m \u001b[1;33m\u001b[0m\u001b[0m\n",
      "\u001b[1;32m~\\Anaconda3\\lib\\site-packages\\sklearn\\utils\\multiclass.py\u001b[0m in \u001b[0;36munique_labels\u001b[1;34m(*ys)\u001b[0m\n\u001b[0;32m     95\u001b[0m     \u001b[0m_unique_labels\u001b[0m \u001b[1;33m=\u001b[0m \u001b[0m_FN_UNIQUE_LABELS\u001b[0m\u001b[1;33m.\u001b[0m\u001b[0mget\u001b[0m\u001b[1;33m(\u001b[0m\u001b[0mlabel_type\u001b[0m\u001b[1;33m,\u001b[0m \u001b[1;32mNone\u001b[0m\u001b[1;33m)\u001b[0m\u001b[1;33m\u001b[0m\u001b[0m\n\u001b[0;32m     96\u001b[0m     \u001b[1;32mif\u001b[0m \u001b[1;32mnot\u001b[0m \u001b[0m_unique_labels\u001b[0m\u001b[1;33m:\u001b[0m\u001b[1;33m\u001b[0m\u001b[0m\n\u001b[1;32m---> 97\u001b[1;33m         \u001b[1;32mraise\u001b[0m \u001b[0mValueError\u001b[0m\u001b[1;33m(\u001b[0m\u001b[1;34m\"Unknown label type: %s\"\u001b[0m \u001b[1;33m%\u001b[0m \u001b[0mrepr\u001b[0m\u001b[1;33m(\u001b[0m\u001b[0mys\u001b[0m\u001b[1;33m)\u001b[0m\u001b[1;33m)\u001b[0m\u001b[1;33m\u001b[0m\u001b[0m\n\u001b[0m\u001b[0;32m     98\u001b[0m \u001b[1;33m\u001b[0m\u001b[0m\n\u001b[0;32m     99\u001b[0m     \u001b[0mys_labels\u001b[0m \u001b[1;33m=\u001b[0m \u001b[0mset\u001b[0m\u001b[1;33m(\u001b[0m\u001b[0mchain\u001b[0m\u001b[1;33m.\u001b[0m\u001b[0mfrom_iterable\u001b[0m\u001b[1;33m(\u001b[0m\u001b[0m_unique_labels\u001b[0m\u001b[1;33m(\u001b[0m\u001b[0my\u001b[0m\u001b[1;33m)\u001b[0m \u001b[1;32mfor\u001b[0m \u001b[0my\u001b[0m \u001b[1;32min\u001b[0m \u001b[0mys\u001b[0m\u001b[1;33m)\u001b[0m\u001b[1;33m)\u001b[0m\u001b[1;33m\u001b[0m\u001b[0m\n",
      "\u001b[1;31mValueError\u001b[0m: Unknown label type: (array([ -3.32659757e+02,  -2.81911298e+02,  -2.52230595e+02,\n        -2.34724396e+02,  -2.27553018e+02,  -2.17515927e+02,\n        -2.09674307e+02,  -2.08517942e+02,  -1.99322581e+02,\n        -1.91180750e+02,  -1.85341011e+02,  -1.85099888e+02,\n        -1.78536677e+02,  -1.71922330e+02,  -1.69426674e+02,\n        -1.66018508e+02,  -1.64096505e+02,  -1.53481970e+02,\n        -1.47878974e+02,  -1.47201094e+02,  -1.43005397e+02,\n        -1.40244564e+02,  -1.38350185e+02,  -1.37375293e+02,\n        -1.31735883e+02,  -1.29189173e+02,  -1.26418243e+02,\n        -1.22853853e+02,  -1.22398434e+02,  -1.12175757e+02,\n        -1.11540553e+02,  -1.10824428e+02,  -1.10731326e+02,\n        -1.10664552e+02,  -1.06716259e+02,  -1.04264490e+02,\n        -1.04160599e+02,  -1.03527110e+02,  -1.02568633e+02,\n        -1.00264129e+02,  -9.86476661e+01,  -9.83807090e+01,\n        -9.83670859e+01,  -9.49340423e+01,  -9.29895209e+01,\n        -9.26976011e+01,  -8.65559114e+01,  -8.48011547e+01,\n        -8.38007716e+01,  -8.18295863e+01,  -8.06116135e+01,\n        -8.03154408e+01,  -7.68195794e+01,  -7.36577012e+01,\n        -7.31841938e+01,  -7.23037752e+01,  -7.21346075e+01,\n        -7.20046182e+01,  -7.06655874e+01,  -6.88955227e+01,\n        -6.78515329e+01,  -6.53587057e+01,  -6.17285361e+01,\n        -6.10979124e+01,  -5.93919751e+01,  -5.74985640e+01,\n        -5.58995330e+01,  -5.58304399e+01,  -5.57447164e+01,\n        -5.54038608e+01,  -5.40765383e+01,  -5.26473381e+01,\n        -5.07388769e+01,  -5.06504452e+01,  -5.05329299e+01,\n        -4.99353895e+01,  -4.78527384e+01,  -4.77821660e+01,\n        -4.75686488e+01,  -4.66035590e+01,  -4.62585168e+01,\n        -4.60848655e+01,  -4.55021030e+01,  -4.33717607e+01,\n        -4.30664794e+01,  -4.29415859e+01,  -4.22857724e+01,\n        -4.15691577e+01,  -4.09709756e+01,  -3.90410088e+01,\n        -3.89781532e+01,  -3.84287857e+01,  -3.80087286e+01,\n        -3.52319138e+01,  -3.50309441e+01,  -3.47480915e+01,\n        -3.46401664e+01,  -3.46262291e+01,  -3.44652437e+01,\n        -3.33317931e+01,  -3.31666668e+01,  -3.27129398e+01,\n        -3.25010465e+01,  -3.24717879e+01,  -3.22375209e+01,\n        -3.22296656e+01,  -3.21490364e+01,  -3.17280343e+01,\n        -3.07840043e+01,  -3.04335265e+01,  -3.00774530e+01,\n        -2.99530542e+01,  -2.96752830e+01,  -2.94971407e+01,\n        -2.93662592e+01,  -2.93448407e+01,  -2.85933030e+01,\n        -2.83954885e+01,  -2.78295697e+01,  -2.75008546e+01,\n        -2.71146287e+01,  -2.70482573e+01,  -2.67706834e+01,\n        -2.66237075e+01,  -2.65118959e+01,  -2.57176660e+01,\n        -2.54730791e+01,  -2.52513216e+01,  -2.51646111e+01,\n        -2.45833819e+01,  -2.44184969e+01,  -2.41304581e+01,\n        -2.34006765e+01,  -2.22534227e+01,  -2.22311882e+01,\n        -2.22226535e+01,  -2.20085729e+01,  -2.17372520e+01,\n        -2.16727488e+01,  -2.13850396e+01,  -2.12952101e+01,\n        -2.06891782e+01,  -2.04440729e+01,  -2.03007906e+01,\n        -2.02969642e+01,  -2.01167937e+01,  -1.99472143e+01,\n        -1.95863685e+01,  -1.95048361e+01,  -1.94618676e+01,\n        -1.87937237e+01,  -1.78429461e+01,  -1.78147515e+01,\n        -1.77329976e+01,  -1.73855640e+01,  -1.67055575e+01,\n        -1.64397201e+01,  -1.63615521e+01,  -1.61373089e+01,\n        -1.59563597e+01,  -1.59441388e+01,  -1.59044962e+01,\n        -1.58355956e+01,  -1.57775944e+01,  -1.54587198e+01,\n        -1.49773838e+01,  -1.49307893e+01,  -1.39321457e+01,\n        -1.37032307e+01,  -1.36245202e+01,  -1.30838468e+01,\n        -1.26899864e+01,  -1.20186994e+01,  -1.14090660e+01,\n        -1.07938980e+01,  -1.07437856e+01,  -1.06990134e+01,\n        -1.06391623e+01,  -1.04880123e+01,  -1.04804094e+01,\n        -1.00746115e+01,  -9.34342618e+00,  -9.15572442e+00,\n        -8.84452709e+00,  -8.34344413e+00,  -7.85981369e+00,\n        -7.43016961e+00,  -7.27813580e+00,  -7.19742507e+00,\n        -6.84109968e+00,  -6.62860416e+00,  -6.30077949e+00,\n        -6.28627433e+00,  -6.27792983e+00,  -6.26156228e+00,\n        -6.11945554e+00,  -4.92956373e+00,  -4.82419444e+00,\n        -4.44906677e+00,  -4.39150688e+00,  -4.08995142e+00,\n        -3.05079210e+00,  -2.62537024e+00,  -1.82580144e+00,\n        -9.26986720e-01,  -7.21939810e-01,  -4.92644220e-01,\n        -3.15518710e-01,  -2.32369610e-01,  -8.45591400e-02,\n         1.79224320e-01,   4.22767580e-01,   1.67677533e+00,\n         1.84179133e+00,   2.21241527e+00,   2.50020367e+00,\n         2.69922144e+00,   2.89798351e+00,   3.06793785e+00,\n         3.18181958e+00,   3.29785443e+00,   4.14871878e+00,\n         4.29060785e+00,   4.29699704e+00,   4.88007690e+00,\n         5.34093901e+00,   5.42872682e+00,   5.45505621e+00,\n         5.50706793e+00,   5.75955545e+00,   6.14925047e+00,\n         6.60284707e+00,   7.02915297e+00,   7.47138158e+00,\n         8.70301646e+00,   9.85027933e+00,   1.02219036e+01,\n         1.02685068e+01,   1.03870527e+01,   1.04612676e+01,\n         1.07362375e+01,   1.10458984e+01,   1.14453124e+01,\n         1.16291402e+01,   1.22088305e+01,   1.24058422e+01,\n         1.31371094e+01,   1.37283464e+01,   1.39916390e+01,\n         1.40870909e+01,   1.43800584e+01,   1.45489499e+01,\n         1.47968547e+01,   1.49747315e+01,   1.52783678e+01,\n         1.58844986e+01,   1.59843590e+01,   1.60933883e+01,\n         1.74817819e+01,   1.75593047e+01,   1.78542824e+01,\n         1.78978814e+01,   1.80459435e+01,   1.81073795e+01,\n         1.87603310e+01,   1.88452807e+01,   1.90858829e+01,\n         1.91642572e+01,   1.92549993e+01,   1.95131397e+01,\n         2.00447957e+01,   2.02443162e+01,   2.09042865e+01,\n         2.09141774e+01,   2.14980944e+01,   2.16744964e+01,\n         2.18944855e+01,   2.20225887e+01,   2.21095732e+01,\n         2.23286343e+01,   2.24193468e+01,   2.27466450e+01,\n         2.33207945e+01,   2.35672487e+01,   2.40307737e+01,\n         2.42308907e+01,   2.57044233e+01,   2.57786996e+01,\n         2.69519154e+01,   2.71868462e+01,   2.72890179e+01,\n         2.74057661e+01,   2.79141084e+01,   2.83330763e+01,\n         2.86197494e+01,   2.94330601e+01,   3.06560179e+01,\n         3.12566581e+01,   3.14811408e+01,   3.16321958e+01,\n         3.18305275e+01,   3.19481520e+01,   3.24395252e+01,\n         3.28799629e+01,   3.35277878e+01,   3.37034792e+01,\n         3.37565971e+01,   3.37923269e+01,   3.43282927e+01,\n         3.50165489e+01,   3.59490341e+01,   3.60321284e+01,\n         3.65670082e+01,   3.66944755e+01,   3.76483264e+01,\n         3.78959573e+01,   3.89095782e+01,   3.91784016e+01,\n         3.98291302e+01,   4.00793698e+01,   4.07891335e+01,\n         4.12056702e+01,   4.23459461e+01,   4.25013138e+01,\n         4.30947729e+01,   4.32423997e+01,   4.37642328e+01,\n         4.43071957e+01,   4.55028656e+01,   4.58165368e+01,\n         4.62231101e+01,   4.62544296e+01,   4.69903069e+01,\n         4.81488331e+01,   4.83372881e+01,   4.85751482e+01,\n         4.87481186e+01,   4.93602307e+01,   4.94995372e+01,\n         4.95224180e+01,   4.99244316e+01,   5.04366528e+01,\n         5.04757626e+01,   5.06291825e+01,   5.08360558e+01,\n         5.15072498e+01,   5.28975385e+01,   5.30033656e+01,\n         5.36967298e+01,   5.37324059e+01,   5.39084081e+01,\n         5.58823713e+01,   5.59721276e+01,   5.90508781e+01,\n         5.93713202e+01,   5.96807532e+01,   6.05670638e+01,\n         6.30428509e+01,   6.39600960e+01,   6.40563677e+01,\n         6.41222355e+01,   6.58436589e+01,   6.60643487e+01,\n         6.70881823e+01,   6.75862728e+01,   6.78300247e+01,\n         6.82979634e+01,   6.97719575e+01,   7.22056827e+01,\n         7.28381385e+01,   7.31732779e+01,   7.43744952e+01,\n         7.58067883e+01,   7.71185938e+01,   7.76745683e+01,\n         8.56037264e+01,   8.63826983e+01,   8.71677332e+01,\n         8.77575165e+01,   9.07249979e+01,   9.09170138e+01,\n         9.43047963e+01,   9.47051769e+01,   9.85033145e+01,\n         9.87017909e+01,   1.00143518e+02,   1.04350417e+02,\n         1.05558113e+02,   1.07372937e+02,   1.08318621e+02,\n         1.13841797e+02,   1.13890246e+02,   1.14800524e+02,\n         1.22436973e+02,   1.22519291e+02,   1.25261389e+02,\n         1.28096323e+02,   1.28157416e+02,   1.31015339e+02,\n         1.31627670e+02,   1.47285976e+02,   1.48858247e+02,\n         1.50136739e+02,   1.54800180e+02,   1.60020423e+02,\n         1.91019791e+02,   1.94476171e+02,   2.05407005e+02,\n         2.15547856e+02,   2.30763032e+02,   2.38671977e+02,\n         2.43270761e+02,   2.43816932e+02,   2.54020261e+02,\n         3.41666169e+02,   3.41682782e+02,   3.73658158e+02]),)"
     ]
    }
   ],
   "source": [
    "#Create a Gaussian Classifier\n",
    "model = GaussianNB()\n",
    "\n",
    "X = df_1['Sentiment']\n",
    "Y = df_1['Change']\n",
    "\n",
    "X = X.values.reshape(len(X), 1)\n",
    "#Y = Y.values.reshape(len(Y), 1)\n",
    "\n",
    "X_train, X_test, Y_train, Y_test = train_test_split(X, Y, test_size=0.33, random_state=5)\n",
    "\n",
    "model.fit(X_train, Y_train)"
   ]
  },
  {
   "cell_type": "code",
   "execution_count": 21,
   "metadata": {},
   "outputs": [
    {
     "data": {
      "image/png": "[encoded data removed]",
      "text/plain": [
       "<matplotlib.figure.Figure at 0x21a5536dda0>"
      ]
     },
     "metadata": {},
     "output_type": "display_data"
    }
   ],
   "source": [
    "Y_pred = lm.predict(X_test)\n",
    "# Plot outputs\n",
    "plt.scatter(X_test, Y_test,  color='black')\n",
    "plt.plot(X_test, Y_pred, color='blue', linewidth=3)\n",
    "plt.title('Bitcoin')\n",
    "plt.xlabel('Sentiment')\n",
    "plt.ylabel('Change')\n",
    "plt.show()"
   ]
  },
  {
   "cell_type": "code",
   "execution_count": 22,
   "metadata": {},
   "outputs": [
    {
     "name": "stdout",
     "output_type": "stream",
     "text": [
      "Coefficients: \n",
      " [[ 180.51129499]]\n",
      "Mean squared error: 6930.54\n",
      "Variance score: -0.00\n",
      "1.0\n"
     ]
    }
   ],
   "source": [
    "print('Coefficients: \\n', lm.coef_)\n",
    "# The mean squared error\n",
    "print(\"Mean squared error: %.2f\" % mean_squared_error(Y_test, Y_pred))\n",
    "      # Explained variance score: 1 is perfect prediction\n",
    "print('Variance score: %.2f' % r2_score(Y_test, Y_pred))\n",
    "\n",
    "error = np.mean(Y_pred != Y_test)\n",
    "print(error)"
   ]
  },
  {
   "cell_type": "code",
   "execution_count": null,
   "metadata": {
    "collapsed": true
   },
   "outputs": [],
   "source": []
  }
 ],
 "metadata": {
  "kernelspec": {
   "display_name": "Python 3",
   "language": "python",
   "name": "python3"
  },
  "language_info": {
   "codemirror_mode": {
    "name": "ipython",
    "version": 3
   },
   "file_extension": ".py",
   "mimetype": "text/x-python",
   "name": "python",
   "nbconvert_exporter": "python",
   "pygments_lexer": "ipython3",
   "version": "3.6.3"
  }
 },
 "nbformat": 4,
 "nbformat_minor": 2
}
