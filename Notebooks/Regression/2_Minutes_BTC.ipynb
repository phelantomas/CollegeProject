{
 "cells": [
  {
   "cell_type": "code",
   "execution_count": 43,
   "metadata": {},
   "outputs": [],
   "source": [
    "import pandas as pd\n",
    "import numpy as np\n",
    "from sklearn import datasets, linear_model\n",
    "from sklearn.model_selection import train_test_split\n",
    "from sklearn.metrics import mean_squared_error, r2_score\n",
    "from sklearn import preprocessing\n",
    "from sklearn import utils\n",
    "from sklearn.metrics import mean_squared_error, r2_score\n",
    "from sklearn.linear_model import LinearRegression\n",
    "import matplotlib.pyplot as plt\n",
    "import statsmodels.api as sm\n",
    "from sklearn import tree\n",
    "from sklearn.model_selection import cross_val_score\n",
    "from sklearn.ensemble import RandomForestRegressor"
   ]
  },
  {
   "cell_type": "markdown",
   "metadata": {},
   "source": [
    "<h2>Setup</h2>"
   ]
  },
  {
   "cell_type": "code",
   "execution_count": 44,
   "metadata": {
    "collapsed": true
   },
   "outputs": [],
   "source": [
    "btc_df = pd.read_csv('C:/Users/Thomas/Desktop/Bitcoin_Data/2_Minutes_BTC/btcFeature.csv')\n",
    "\n",
    "shift = -1\n",
    "random_state = 0\n",
    "btc_df.Change = btc_df.Change.shift(shift)\n",
    "btc_df = btc_df.dropna()"
   ]
  },
  {
   "cell_type": "code",
   "execution_count": 45,
   "metadata": {},
   "outputs": [
    {
     "data": {
      "text/html": [
       "<div>\n",
       "<style>\n",
       "    .dataframe thead tr:only-child th {\n",
       "        text-align: right;\n",
       "    }\n",
       "\n",
       "    .dataframe thead th {\n",
       "        text-align: left;\n",
       "    }\n",
       "\n",
       "    .dataframe tbody tr th {\n",
       "        vertical-align: top;\n",
       "    }\n",
       "</style>\n",
       "<table border=\"1\" class=\"dataframe\">\n",
       "  <thead>\n",
       "    <tr style=\"text-align: right;\">\n",
       "      <th></th>\n",
       "      <th>Unnamed: 0</th>\n",
       "      <th>Change</th>\n",
       "      <th>NoOfTweets</th>\n",
       "      <th>Price</th>\n",
       "      <th>Sentiment</th>\n",
       "      <th>TimeStamp</th>\n",
       "      <th>Volume</th>\n",
       "    </tr>\n",
       "  </thead>\n",
       "  <tbody>\n",
       "    <tr>\n",
       "      <th>0</th>\n",
       "      <td>0.0</td>\n",
       "      <td>176.122618</td>\n",
       "      <td>5479</td>\n",
       "      <td>10895.972636</td>\n",
       "      <td>0.131372</td>\n",
       "      <td>1517006461</td>\n",
       "      <td>101879.724252</td>\n",
       "    </tr>\n",
       "    <tr>\n",
       "      <th>1</th>\n",
       "      <td>0.0</td>\n",
       "      <td>15.603722</td>\n",
       "      <td>5089</td>\n",
       "      <td>11103.856483</td>\n",
       "      <td>0.165591</td>\n",
       "      <td>1517010121</td>\n",
       "      <td>102439.846847</td>\n",
       "    </tr>\n",
       "    <tr>\n",
       "      <th>2</th>\n",
       "      <td>0.0</td>\n",
       "      <td>16.355975</td>\n",
       "      <td>5006</td>\n",
       "      <td>11190.297205</td>\n",
       "      <td>0.174403</td>\n",
       "      <td>1517013721</td>\n",
       "      <td>103800.678995</td>\n",
       "    </tr>\n",
       "    <tr>\n",
       "      <th>3</th>\n",
       "      <td>0.0</td>\n",
       "      <td>304.134408</td>\n",
       "      <td>4817</td>\n",
       "      <td>11053.218631</td>\n",
       "      <td>0.166817</td>\n",
       "      <td>1517017321</td>\n",
       "      <td>102671.102925</td>\n",
       "    </tr>\n",
       "    <tr>\n",
       "      <th>4</th>\n",
       "      <td>0.0</td>\n",
       "      <td>-109.563939</td>\n",
       "      <td>4647</td>\n",
       "      <td>11212.309112</td>\n",
       "      <td>0.150134</td>\n",
       "      <td>1517020922</td>\n",
       "      <td>101054.829766</td>\n",
       "    </tr>\n",
       "  </tbody>\n",
       "</table>\n",
       "</div>"
      ],
      "text/plain": [
       "   Unnamed: 0      Change  NoOfTweets         Price  Sentiment   TimeStamp  \\\n",
       "0         0.0  176.122618        5479  10895.972636   0.131372  1517006461   \n",
       "1         0.0   15.603722        5089  11103.856483   0.165591  1517010121   \n",
       "2         0.0   16.355975        5006  11190.297205   0.174403  1517013721   \n",
       "3         0.0  304.134408        4817  11053.218631   0.166817  1517017321   \n",
       "4         0.0 -109.563939        4647  11212.309112   0.150134  1517020922   \n",
       "\n",
       "          Volume  \n",
       "0  101879.724252  \n",
       "1  102439.846847  \n",
       "2  103800.678995  \n",
       "3  102671.102925  \n",
       "4  101054.829766  "
      ]
     },
     "execution_count": 45,
     "metadata": {},
     "output_type": "execute_result"
    }
   ],
   "source": [
    "btc_df.head(5)"
   ]
  },
  {
   "cell_type": "markdown",
   "metadata": {},
   "source": [
    "<h2>Linear Regression</h2>"
   ]
  },
  {
   "cell_type": "code",
   "execution_count": 46,
   "metadata": {},
   "outputs": [
    {
     "data": {
      "text/plain": [
       "LinearRegression(copy_X=True, fit_intercept=True, n_jobs=1, normalize=False)"
      ]
     },
     "execution_count": 46,
     "metadata": {},
     "output_type": "execute_result"
    }
   ],
   "source": [
    "lm_1 = LinearRegression()\n",
    "\n",
    "X_1 = btc_df['Sentiment']\n",
    "Y_1 = btc_df['Change']\n",
    "\n",
    "X_1 = X_1.values.reshape(len(X_1), 1)\n",
    "Y_1 = Y_1.values.reshape(len(Y_1), 1)\n",
    "\n",
    "X_train_1, X_test_1, Y_train_1, Y_test_1 = train_test_split(X_1, Y_1, test_size=0.2, random_state=random_state)\n",
    "\n",
    "lm_1.fit(X_train_1, Y_train_1)"
   ]
  },
  {
   "cell_type": "code",
   "execution_count": 47,
   "metadata": {},
   "outputs": [
    {
     "data": {
      "image/png": "[encoded data removed]",
      "text/plain": [
       "<matplotlib.figure.Figure at 0x2467043b0f0>"
      ]
     },
     "metadata": {},
     "output_type": "display_data"
    }
   ],
   "source": [
    "Y_pred_1 = lm_1.predict(X_test_1)\n",
    "plt.scatter(X_test_1, Y_test_1,  color='black')\n",
    "plt.plot(X_test_1, Y_pred_1, color='blue', linewidth=3)\n",
    "plt.title('Bitcoin_2_Minutes')\n",
    "plt.xlabel('Sentiment')\n",
    "plt.ylabel('Change')\n",
    "plt.show()"
   ]
  },
  {
   "cell_type": "code",
   "execution_count": 48,
   "metadata": {},
   "outputs": [
    {
     "name": "stdout",
     "output_type": "stream",
     "text": [
      "Coefficients: \n",
      " [[ 44.79426488]]\n",
      "Mean squared error: 2674.27\n",
      "Variance score: 0.00\n",
      "1.0\n"
     ]
    }
   ],
   "source": [
    "print('Coefficients: \\n', lm_1.coef_)\n",
    "# The mean squared error\n",
    "print(\"Mean squared error: %.2f\" % mean_squared_error(Y_test_1, Y_pred_1))\n",
    "      # Explained variance score: 1 is perfect prediction\n",
    "print('Variance score: %.2f' % r2_score(Y_test_1, Y_pred_1))\n",
    "\n",
    "error_1 = np.mean(Y_pred_1 != Y_test_1)\n",
    "print(error_1)"
   ]
  },
  {
   "cell_type": "markdown",
   "metadata": {},
   "source": [
    "<h2>Multi Linear Regression</h2>"
   ]
  },
  {
   "cell_type": "code",
   "execution_count": 49,
   "metadata": {},
   "outputs": [
    {
     "data": {
      "text/html": [
       "<table class=\"simpletable\">\n",
       "<caption>OLS Regression Results</caption>\n",
       "<tr>\n",
       "  <th>Dep. Variable:</th>         <td>Change</td>      <th>  R-squared:         </th> <td>   0.004</td> \n",
       "</tr>\n",
       "<tr>\n",
       "  <th>Model:</th>                   <td>OLS</td>       <th>  Adj. R-squared:    </th> <td>   0.002</td> \n",
       "</tr>\n",
       "<tr>\n",
       "  <th>Method:</th>             <td>Least Squares</td>  <th>  F-statistic:       </th> <td>   2.504</td> \n",
       "</tr>\n",
       "<tr>\n",
       "  <th>Date:</th>             <td>Fri, 20 Apr 2018</td> <th>  Prob (F-statistic):</th>  <td>0.0576</td>  \n",
       "</tr>\n",
       "<tr>\n",
       "  <th>Time:</th>                 <td>10:18:53</td>     <th>  Log-Likelihood:    </th> <td> -9874.3</td> \n",
       "</tr>\n",
       "<tr>\n",
       "  <th>No. Observations:</th>      <td>  1815</td>      <th>  AIC:               </th> <td>1.975e+04</td>\n",
       "</tr>\n",
       "<tr>\n",
       "  <th>Df Residuals:</th>          <td>  1812</td>      <th>  BIC:               </th> <td>1.977e+04</td>\n",
       "</tr>\n",
       "<tr>\n",
       "  <th>Df Model:</th>              <td>     3</td>      <th>                     </th>     <td> </td>    \n",
       "</tr>\n",
       "<tr>\n",
       "  <th>Covariance Type:</th>      <td>nonrobust</td>    <th>                     </th>     <td> </td>    \n",
       "</tr>\n",
       "</table>\n",
       "<table class=\"simpletable\">\n",
       "<tr>\n",
       "       <td></td>         <th>coef</th>     <th>std err</th>      <th>t</th>      <th>P>|t|</th>  <th>[0.025</th>    <th>0.975]</th>  \n",
       "</tr>\n",
       "<tr>\n",
       "  <th>Sentiment</th>  <td>   24.7857</td> <td>   10.295</td> <td>    2.407</td> <td> 0.016</td> <td>    4.594</td> <td>   44.978</td>\n",
       "</tr>\n",
       "<tr>\n",
       "  <th>Volume</th>     <td>-1.808e-05</td> <td> 2.07e-05</td> <td>   -0.873</td> <td> 0.383</td> <td>-5.87e-05</td> <td> 2.25e-05</td>\n",
       "</tr>\n",
       "<tr>\n",
       "  <th>NoOfTweets</th> <td>-7.478e-05</td> <td>    0.000</td> <td>   -0.288</td> <td> 0.773</td> <td>   -0.001</td> <td>    0.000</td>\n",
       "</tr>\n",
       "</table>\n",
       "<table class=\"simpletable\">\n",
       "<tr>\n",
       "  <th>Omnibus:</th>       <td>448.952</td> <th>  Durbin-Watson:     </th> <td>   1.922</td> \n",
       "</tr>\n",
       "<tr>\n",
       "  <th>Prob(Omnibus):</th> <td> 0.000</td>  <th>  Jarque-Bera (JB):  </th> <td>12601.488</td>\n",
       "</tr>\n",
       "<tr>\n",
       "  <th>Skew:</th>          <td> 0.523</td>  <th>  Prob(JB):          </th> <td>    0.00</td> \n",
       "</tr>\n",
       "<tr>\n",
       "  <th>Kurtosis:</th>      <td>15.866</td>  <th>  Cond. No.          </th> <td>7.98e+05</td> \n",
       "</tr>\n",
       "</table>"
      ],
      "text/plain": [
       "<class 'statsmodels.iolib.summary.Summary'>\n",
       "\"\"\"\n",
       "                            OLS Regression Results                            \n",
       "==============================================================================\n",
       "Dep. Variable:                 Change   R-squared:                       0.004\n",
       "Model:                            OLS   Adj. R-squared:                  0.002\n",
       "Method:                 Least Squares   F-statistic:                     2.504\n",
       "Date:                Fri, 20 Apr 2018   Prob (F-statistic):             0.0576\n",
       "Time:                        10:18:53   Log-Likelihood:                -9874.3\n",
       "No. Observations:                1815   AIC:                         1.975e+04\n",
       "Df Residuals:                    1812   BIC:                         1.977e+04\n",
       "Df Model:                           3                                         \n",
       "Covariance Type:            nonrobust                                         \n",
       "==============================================================================\n",
       "                 coef    std err          t      P>|t|      [0.025      0.975]\n",
       "------------------------------------------------------------------------------\n",
       "Sentiment     24.7857     10.295      2.407      0.016       4.594      44.978\n",
       "Volume     -1.808e-05   2.07e-05     -0.873      0.383   -5.87e-05    2.25e-05\n",
       "NoOfTweets -7.478e-05      0.000     -0.288      0.773      -0.001       0.000\n",
       "==============================================================================\n",
       "Omnibus:                      448.952   Durbin-Watson:                   1.922\n",
       "Prob(Omnibus):                  0.000   Jarque-Bera (JB):            12601.488\n",
       "Skew:                           0.523   Prob(JB):                         0.00\n",
       "Kurtosis:                      15.866   Cond. No.                     7.98e+05\n",
       "==============================================================================\n",
       "\n",
       "Warnings:\n",
       "[1] Standard Errors assume that the covariance matrix of the errors is correctly specified.\n",
       "[2] The condition number is large, 7.98e+05. This might indicate that there are\n",
       "strong multicollinearity or other numerical problems.\n",
       "\"\"\""
      ]
     },
     "execution_count": 49,
     "metadata": {},
     "output_type": "execute_result"
    }
   ],
   "source": [
    "lm_1 = LinearRegression()\n",
    "\n",
    "X_1 = btc_df[['Sentiment', 'Volume', 'NoOfTweets']]\n",
    "Y_1 = btc_df['Change']\n",
    "\n",
    "X_train_1, X_test_1, Y_train_1, Y_test_1 = train_test_split(X_1, Y_1, test_size=0.33, random_state=random_state)\n",
    "\n",
    "model = sm.OLS(Y_1, X_1).fit()\n",
    "predictions = model.predict(X_1) # make the predictions by the model\n",
    "model.summary()"
   ]
  },
  {
   "cell_type": "code",
   "execution_count": 50,
   "metadata": {},
   "outputs": [
    {
     "name": "stdout",
     "output_type": "stream",
     "text": [
      "   Sentiment         Volume  NoOfTweets\n",
      "0   0.131372  101879.724252        5479\n",
      "1   0.165591  102439.846847        5089\n",
      "2   0.174403  103800.678995        5006\n",
      "3   0.166817  102671.102925        4817\n",
      "4   0.150134  101054.829766        4647\n",
      "[-0.73502803  1.16652617  1.67261664  1.19988971  0.20565709]\n"
     ]
    }
   ],
   "source": [
    "model = lm_1.fit(X_1,Y_1)\n",
    "predictions = lm_1.predict(X_1)\n",
    "print(X_1[0:5])\n",
    "print(predictions[0:5])"
   ]
  },
  {
   "cell_type": "code",
   "execution_count": 51,
   "metadata": {},
   "outputs": [
    {
     "data": {
      "text/plain": [
       "0.0031331132449454735"
      ]
     },
     "execution_count": 51,
     "metadata": {},
     "output_type": "execute_result"
    }
   ],
   "source": [
    "lm_1.score(X_1,Y_1)"
   ]
  },
  {
   "cell_type": "markdown",
   "metadata": {},
   "source": [
    "<h2>Decision Tree</h2>"
   ]
  },
  {
   "cell_type": "code",
   "execution_count": 52,
   "metadata": {},
   "outputs": [
    {
     "name": "stdout",
     "output_type": "stream",
     "text": [
      "[-0.05496402 -0.00614583  0.01545075]\n",
      "-0.00642132667758\n"
     ]
    }
   ],
   "source": [
    "dt = tree.DecisionTreeRegressor(criterion=\"friedman_mse\",max_leaf_nodes=2, min_samples_leaf=50, max_depth=150)\n",
    "\n",
    "X = btc_df[['Sentiment', 'Volume', 'NoOfTweets']]\n",
    "Y = btc_df['Change']\n",
    "\n",
    "X_train, X_test, Y_train, Y_test = train_test_split(X, Y, test_size=0.33, random_state=5)\n",
    "\n",
    "dt.fit(X_train, Y_train)\n",
    "\n",
    "score = cross_val_score(dt, X_test, Y_test)\n",
    "\n",
    "dt_score = dt.score(X_test, Y_test)\n",
    "print(score)\n",
    "print(dt_score)"
   ]
  },
  {
   "cell_type": "markdown",
   "metadata": {},
   "source": [
    "<h2>Random Forests</h2>"
   ]
  },
  {
   "cell_type": "code",
   "execution_count": 53,
   "metadata": {},
   "outputs": [
    {
     "name": "stdout",
     "output_type": "stream",
     "text": [
      "[-0.05510015 -0.02134646 -0.00394536]\n",
      "0.00371707101319\n"
     ]
    }
   ],
   "source": [
    "rf = RandomForestRegressor(max_leaf_nodes=2, min_samples_leaf=50, max_depth=150)\n",
    "\n",
    "rf.fit(X_train, Y_train)\n",
    "\n",
    "score = cross_val_score(rf, X_test, Y_test)\n",
    "\n",
    "rf_score = rf.score(X_test, Y_test)\n",
    "\n",
    "print(score)\n",
    "print(rf_score)"
   ]
  }
 ],
 "metadata": {
  "kernelspec": {
   "display_name": "Python 3",
   "language": "python",
   "name": "python3"
  },
  "language_info": {
   "codemirror_mode": {
    "name": "ipython",
    "version": 3
   },
   "file_extension": ".py",
   "mimetype": "text/x-python",
   "name": "python",
   "nbconvert_exporter": "python",
   "pygments_lexer": "ipython3",
   "version": "3.6.3"
  }
 },
 "nbformat": 4,
 "nbformat_minor": 2
}
